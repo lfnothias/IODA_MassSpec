{
 "cells": [
  {
   "cell_type": "markdown",
   "metadata": {},
   "source": [
    "# <span style=\"color:red\"> Targeted-from-mzTab notebook for IODA </span>\n",
    "\n",
    "**Purpose**: The IODA targeted-from-mzTab workflow takes allows to generate list of target ions for iterative optimise data acquisition (IODA) of fragmentation spectra in LC-MS. It accepts as input an mzTab file with results for two samples: the \"reference\" sample and the \"blank\" sample. The targets are detected in the \"reference\" sample, and background ions are detected in the \"blank\" sample. Background ions are excluded from the targets. The targets can be acquired by IODA in one or multiple experiments for higher coverage.\n",
    "\n",
    "\n",
    "**Usage**: This notebook requires the user to provide an mzTab. If you need to process your LC-MS data, you can use our [IODA targeted-from-mzML notebook](IODA_targeted_from_mzML.ipynb), or refer to our documentation for more informations. The IODA targeted workflow defines the target ions, and these targets are then formatted for XCalibur or [MaxQuant.Live]\n",
    "\n",
    "**Documentation**: Please refer to the documentation page [See here](link).\n",
    "\n",
    "**Instructions**: Follow the instructions below and run the notebook cells accordingly."
   ]
  },
  {
   "cell_type": "code",
   "execution_count": 1,
   "metadata": {},
   "outputs": [],
   "source": []
  },
  {
   "cell_type": "code",
   "execution_count": 1,
   "metadata": {},
   "outputs": [],
   "source": [
    "# Blank sample\n",
    "input_BLANK = \"path_to_blank_sample_mzML\"\n",
    "# Reference sample\n",
    "input_SAMPLE = \"path_to_reference_mzML\"\n",
    "\n",
    "input_BLANK = \"tests/Euphorbia/Targeted/toppas_input/Euphorbia_rogers_latex_Blank_MS1_2uL.mzML\"\n",
    "input_SAMPLE = \"tests/Euphorbia/Targeted/toppas_input/Euphorbia_rogers_latex_latex_MS1_2uL.mzML\""
   ]
  },
  {
   "cell_type": "code",
   "execution_count": 2,
   "metadata": {},
   "outputs": [],
   "source": [
    "ppm_error = 10\n",
    "noise_level = 3E4"
   ]
  },
  {
   "cell_type": "code",
   "execution_count": 3,
   "metadata": {},
   "outputs": [
    {
     "ename": "ModuleNotFoundError",
     "evalue": "No module named 'xvfbwrapper'",
     "output_type": "error",
     "traceback": [
      "\u001b[0;31m---------------------------------------------------------------------------\u001b[0m",
      "\u001b[0;31mModuleNotFoundError\u001b[0m                       Traceback (most recent call last)",
      "\u001b[0;32m/tmp/ipykernel_95/1730117167.py\u001b[0m in \u001b[0;36m<module>\u001b[0;34m\u001b[0m\n\u001b[0;32m----> 1\u001b[0;31m \u001b[0;32mfrom\u001b[0m \u001b[0mIODA_run_OpenMS_targeted\u001b[0m \u001b[0;32mimport\u001b[0m \u001b[0;34m*\u001b[0m\u001b[0;34m\u001b[0m\u001b[0;34m\u001b[0m\u001b[0m\n\u001b[0m\u001b[1;32m      2\u001b[0m \u001b[0mIODA_targeted_workflow\u001b[0m\u001b[0;34m(\u001b[0m\u001b[0minput_BLANK\u001b[0m\u001b[0;34m,\u001b[0m\u001b[0minput_SAMPLE\u001b[0m\u001b[0;34m,\u001b[0m\u001b[0mppm_error\u001b[0m\u001b[0;34m,\u001b[0m\u001b[0mnoise_level\u001b[0m\u001b[0;34m)\u001b[0m\u001b[0;34m\u001b[0m\u001b[0;34m\u001b[0m\u001b[0m\n",
      "\u001b[0;32m~/IODA_run_OpenMS_targeted.py\u001b[0m in \u001b[0;36m<module>\u001b[0;34m\u001b[0m\n\u001b[1;32m      3\u001b[0m \u001b[0;32mimport\u001b[0m \u001b[0msubprocess\u001b[0m\u001b[0;34m\u001b[0m\u001b[0;34m\u001b[0m\u001b[0m\n\u001b[1;32m      4\u001b[0m \u001b[0;32mimport\u001b[0m \u001b[0msys\u001b[0m\u001b[0;34m\u001b[0m\u001b[0;34m\u001b[0m\u001b[0m\n\u001b[0;32m----> 5\u001b[0;31m \u001b[0;32mfrom\u001b[0m \u001b[0mxvfbwrapper\u001b[0m \u001b[0;32mimport\u001b[0m \u001b[0mXvfb\u001b[0m\u001b[0;34m\u001b[0m\u001b[0;34m\u001b[0m\u001b[0m\n\u001b[0m\u001b[1;32m      6\u001b[0m \u001b[0;32mfrom\u001b[0m \u001b[0mlogzero\u001b[0m \u001b[0;32mimport\u001b[0m \u001b[0mlogger\u001b[0m\u001b[0;34m,\u001b[0m \u001b[0mlogfile\u001b[0m\u001b[0;34m\u001b[0m\u001b[0;34m\u001b[0m\u001b[0m\n\u001b[1;32m      7\u001b[0m \u001b[0;32mimport\u001b[0m \u001b[0mdatetime\u001b[0m\u001b[0;34m\u001b[0m\u001b[0;34m\u001b[0m\u001b[0m\n",
      "\u001b[0;31mModuleNotFoundError\u001b[0m: No module named 'xvfbwrapper'"
     ]
    }
   ],
   "source": [
    "from IODA_run_OpenMS_targeted import *\n",
    "IODA_targeted_workflow(input_BLANK,input_SAMPLE,ppm_error,noise_level)"
   ]
  },
  {
   "cell_type": "code",
   "execution_count": null,
   "metadata": {},
   "outputs": [],
   "source": []
  },
  {
   "cell_type": "code",
   "execution_count": 41,
   "metadata": {},
   "outputs": [],
   "source": [
    "#input_mzTab = 'tests/BP_mzTab/SA113_Media_SPE_MeOH_MS1_to_SA113_SPE_MeOH_MS1_mrgd.mzTab'\n",
    "input_mzTab = 'tests/Euphorbia/Targeted/ioda_input/Euphorbia_rogers_latex_Blank_MS1_2uL_to_Euphorbia_rogers_latex_latex_MS1_2uL_mrgd.mzTab'\n",
    "#input_filename = 'tests/BP_mzTab/SA113_Media_SPE_MeOH_MS1_to_SA113_SPE_MeOH_MS1_mrgd.mzTab'\n",
    "#output_filename = 'tests/BP_mzTab/TEMP_Media_SPE_MeOH_MS1_to_SA113_SPE_MeOH_MS1_mrgd.csv'\n",
    "#convert_mzTab_to_table(input_filename,output_filename)"
   ]
  },
  {
   "cell_type": "code",
   "execution_count": 34,
   "metadata": {},
   "outputs": [],
   "source": [
    "from IODA_MS2Planner_workflow import *"
   ]
  },
  {
   "cell_type": "code",
   "execution_count": 35,
   "metadata": {},
   "outputs": [],
   "source": [
    "# Best Path shared parameters\n",
    "min_ratio_value = 3\n",
    "min_intensity_value = 3E4\n",
    "experiment_number = 5\n",
    "isolation = 1.5\n",
    "delay = 0.1 #sec\n",
    "\n",
    "# Target ion list parameters\n",
    "rt_margin = 0.3"
   ]
  },
  {
   "cell_type": "markdown",
   "metadata": {},
   "source": [
    "## Baseline mode"
   ]
  },
  {
   "cell_type": "code",
   "execution_count": 36,
   "metadata": {},
   "outputs": [],
   "source": [
    "# Baseline parameter\n",
    "win_len = 0.5"
   ]
  },
  {
   "cell_type": "code",
   "execution_count": 42,
   "metadata": {},
   "outputs": [
    {
     "name": "stderr",
     "output_type": "stream",
     "text": [
      "[I 230316 15:09:57 IODA_MS2Planner_workflow:131] STARTING THE MS2Planner WORKFLOW\n",
      "[I 230316 15:09:57 IODA_MS2Planner_workflow:142] the input_filename variable should be a valid path/download link or must be: 'OpenMS_generated', when using the OpenMS workflow online\n",
      "[I 230316 15:09:57 IODA_MS2Planner_workflow:145] 2023-03-16 15:09:57.727730\n",
      "[I 230316 15:09:57 IODA_MS2Planner_workflow:147] ======\n",
      "[I 230316 15:09:57 IODA_MS2Planner_workflow:148] Getting the mzTab\n",
      "[I 230316 15:09:57 IODA_MS2Planner_workflow:164] This is the input file path: tests/Euphorbia/Targeted/ioda_input/Euphorbia_rogers_latex_Blank_MS1_2uL_to_Euphorbia_rogers_latex_latex_MS1_2uL_mrgd.mzTab\n",
      "[I 230316 15:09:57 IODA_MS2Planner_workflow:165] This is the output file path: results_targeted_MS2Planner_baseline/Euphorbia_rogers_latex_Blank_MS1_2uL_to_Euphorbia_rogers_latex_latex_MS1_2uL_mrgd.csv\n",
      "[I 230316 15:09:57 IODA_MS2Planner_workflow:169] ======\n",
      "[I 230316 15:09:57 IODA_MS2Planner_workflow:170] Converting mzTab to intermediate table format ...\n",
      "[I 230316 15:09:57 IODA_MS2Planner_workflow:76] - For sample Euphorbia_rogers_latex_Blank_MS1_2uL the sum of feature intensities is = 6.67e+08\n",
      "[I 230316 15:09:57 IODA_MS2Planner_workflow:78] - For sample Euphorbia_rogers_latex_latex_MS1_2uL the sum of feature intensities = 5.75e+10\n",
      "[I 230316 15:09:57 IODA_MS2Planner_workflow:172] ======\n",
      "[I 230316 15:09:57 IODA_MS2Planner_workflow:177] Assumed sample filename: Euphorbia_rogers_latex_latex_MS1_2uL\n",
      "[I 230316 15:09:57 IODA_MS2Planner_workflow:179] Assumed blank filename: Euphorbia_rogers_latex_Blank_MS1_2uL\n",
      "[I 230316 15:09:57 IODA_MS2Planner_workflow:180] ======\n",
      "[I 230316 15:09:57 IODA_MS2Planner_workflow:183] User-defined parameters\n",
      "[I 230316 15:09:57 IODA_MS2Planner_workflow:185]     Ratio between sample/blank for ion filtering = 3\n",
      "[I 230316 15:09:57 IODA_MS2Planner_workflow:187]     Minimum intensity for ion filtering in sample = 3.00e+04\n",
      "[I 230316 15:09:57 IODA_MS2Planner_workflow:188]     Retention time window (min.) for binning target ions = 0.5\n",
      "[I 230316 15:09:57 IODA_MS2Planner_workflow:189]     Isolation window (m/z) = 1.5\n",
      "[I 230316 15:09:57 IODA_MS2Planner_workflow:190]     Retention time margin (sec.) = 0.1\n",
      "[I 230316 15:09:57 IODA_MS2Planner_workflow:192]     Number of iterative experiment(s) = 5\n",
      "[I 230316 15:09:57 IODA_MS2Planner_workflow:193] User-defined parameters for the output\n",
      "[I 230316 15:09:57 IODA_MS2Planner_workflow:194]     Retention time margin for target ion list (sec. = 0.3\n",
      "[I 230316 15:09:57 IODA_MS2Planner_workflow:195] ======\n",
      "[I 230316 15:09:57 IODA_MS2Planner_workflow:198] Running MS2Planner in Baseline mode ...\n",
      "[I 230316 15:09:57 IODA_MS2Planner_workflow:689] Command: python3 MS2Planner/path_finder.py baseline results_targeted_MS2Planner_baseline/Euphorbia_rogers_latex_Blank_MS1_2uL_to_Euphorbia_rogers_latex_latex_MS1_2uL_mrgd.csv results_targeted_MS2Planner_baseline/Euphorbia_rogers_latex_Blank_MS1_2uL_to_Euphorbia_rogers_latex_latex_MS1_2uL_mrgd_MS2Planner.csv 30000.0 3 5 -win_len 0.5 -isolation 1.5 -delay 0.1\n",
      "[I 230316 15:09:58 IODA_MS2Planner_workflow:214] ======\n",
      "[I 230316 15:09:58 IODA_MS2Planner_workflow:218] 2023-03-16 15:09:58,814 - path_finder - INFO - =============\n",
      "    2023-03-16 15:09:58,814 - path_finder - INFO - Baseline mode begin\n",
      "    2023-03-16 15:09:58,814 - path_finder - INFO - =============\n",
      "    2023-03-16 15:09:58,814 - path_finder - INFO - File Read\n",
      "    2023-03-16 15:09:58,814 - path_finder - INFO - =============\n",
      "    2023-03-16 15:09:58,815 - path_finder - INFO - Begin Finding Path\n",
      "    2023-03-16 15:09:58,815 - path_finder - INFO - =============\n",
      "    2023-03-16 15:09:58,838 - path_finder.baseline - INFO - [1/5]: features: 582, rest: 5027\n",
      "    2023-03-16 15:09:58,838 - path_finder.baseline - INFO - [2/5]: features: 501, rest: 4526\n",
      "    2023-03-16 15:09:58,839 - path_finder.baseline - INFO - [3/5]: features: 437, rest: 4089\n",
      "    2023-03-16 15:09:58,839 - path_finder.baseline - INFO - [4/5]: features: 383, rest: 3706\n",
      "    2023-03-16 15:09:58,839 - path_finder.baseline - INFO - [5/5]: features: 323, rest: 3383\n",
      "    2023-03-16 15:09:58,839 - path_finder - INFO - Paths Generated\n",
      "    2023-03-16 15:09:58,839 - path_finder - INFO - =============\n",
      "    2023-03-16 15:09:58,849 - path_finder - INFO - File Written\n",
      "    2023-03-16 15:09:58,849 - path_finder - INFO - =============\n",
      "    \n",
      "[I 230316 15:09:58 IODA_MS2Planner_workflow:223] MS2Planner Path output found\n",
      "[I 230316 15:09:58 IODA_MS2Planner_workflow:232] Preparing results ...\n",
      "[I 230316 15:09:58 IODA_MS2Planner_workflow:651] File processed: results_targeted_MS2Planner_baseline/Euphorbia_rogers_latex_Blank_MS1_2uL_to_Euphorbia_rogers_latex_latex_MS1_2uL_mrgd_MS2Planner.csv\n",
      "[I 230316 15:09:58 IODA_MS2Planner_workflow:652] ======\n",
      "/home/jovyan/IODA_MS2Planner_workflow.py:660: FutureWarning: The error_bad_lines argument has been deprecated and will be removed in a future version.\n",
      "\n",
      "\n",
      "  MS2Planner_format(input_filename,output_filename, counter)\n",
      "/home/jovyan/IODA_MS2Planner_workflow.py:660: FutureWarning: The warn_bad_lines argument has been deprecated and will be removed in a future version.\n",
      "\n",
      "\n",
      "  MS2Planner_format(input_filename,output_filename, counter)\n",
      "[I 230316 15:09:59 IODA_MS2Planner_workflow:644] Valid target ions in path1 = 582\n",
      "[I 230316 15:09:59 IODA_MS2Planner_workflow:661] Formatting to XCalibur format ...\n",
      "[I 230316 15:09:59 IODA_MS2Planner_workflow:664] Formatting for MaxQuant.Live ...\n",
      "[I 230316 15:09:59 IODA_MS2Planner_workflow:667] =======\n",
      "[I 230316 15:09:59 IODA_MS2Planner_workflow:644] Valid target ions in path2 = 501\n",
      "[I 230316 15:09:59 IODA_MS2Planner_workflow:661] Formatting to XCalibur format ...\n",
      "[I 230316 15:09:59 IODA_MS2Planner_workflow:664] Formatting for MaxQuant.Live ...\n",
      "[I 230316 15:09:59 IODA_MS2Planner_workflow:667] =======\n",
      "[I 230316 15:09:59 IODA_MS2Planner_workflow:644] Valid target ions in path3 = 437\n",
      "[I 230316 15:09:59 IODA_MS2Planner_workflow:661] Formatting to XCalibur format ...\n",
      "[I 230316 15:09:59 IODA_MS2Planner_workflow:664] Formatting for MaxQuant.Live ...\n",
      "[I 230316 15:09:59 IODA_MS2Planner_workflow:667] =======\n",
      "[I 230316 15:09:59 IODA_MS2Planner_workflow:644] Valid target ions in path4 = 383\n",
      "[I 230316 15:09:59 IODA_MS2Planner_workflow:661] Formatting to XCalibur format ...\n",
      "[I 230316 15:09:59 IODA_MS2Planner_workflow:664] Formatting for MaxQuant.Live ...\n",
      "[I 230316 15:09:59 IODA_MS2Planner_workflow:667] =======\n",
      "[I 230316 15:09:59 IODA_MS2Planner_workflow:644] Valid target ions in path5 = 323\n",
      "[I 230316 15:09:59 IODA_MS2Planner_workflow:661] Formatting to XCalibur format ...\n",
      "[I 230316 15:09:59 IODA_MS2Planner_workflow:664] Formatting for MaxQuant.Live ...\n",
      "[I 230316 15:09:59 IODA_MS2Planner_workflow:667] =======\n",
      "[I 230316 15:09:59 IODA_MS2Planner_workflow:676] results_targeted_MS2Planner_baseline\n",
      "[I 230316 15:10:03 IODA_MS2Planner_workflow:235] ======\n",
      "[I 230316 15:10:03 IODA_MS2Planner_workflow:237] Cleaning and zipping workflow results files ...\n",
      "[I 230316 15:10:03 IODA_MS2Planner_workflow:119] All files zipped successfully!\n",
      "[I 230316 15:10:03 IODA_MS2Planner_workflow:266] ======\n",
      "[I 230316 15:10:03 IODA_MS2Planner_workflow:267] END OF THE MS2Planner WORKFLOW\n",
      "[I 230316 15:10:03 IODA_MS2Planner_workflow:268] ======\n"
     ]
    },
    {
     "name": "stdout",
     "output_type": "stream",
     "text": [
      " \n"
     ]
    },
    {
     "data": {
      "text/plain": [
       "<Figure size 640x480 with 0 Axes>"
      ]
     },
     "metadata": {},
     "output_type": "display_data"
    },
    {
     "data": {
      "text/plain": [
       "<Figure size 640x480 with 0 Axes>"
      ]
     },
     "metadata": {},
     "output_type": "display_data"
    },
    {
     "data": {
      "text/plain": [
       "<Figure size 640x480 with 0 Axes>"
      ]
     },
     "metadata": {},
     "output_type": "display_data"
    }
   ],
   "source": [
    "# Run Path Finder with Baseline method \n",
    "#run_path_finder_baseline_from_mzTab(input_mzTab, experiment_number, min_ratio_value, min_intensity_value, win_len, isolation, rt_margin)\n",
    "\n",
    "run_MS2Planner_baseline_from_mzTab(input_mzTab, experiment_number, min_ratio_value,\\\n",
    "                                   min_intensity_value, win_len, isolation, delay, \\\n",
    "                                   rt_margin)"
   ]
  },
  {
   "cell_type": "markdown",
   "metadata": {},
   "source": [
    "## Apex mode"
   ]
  },
  {
   "cell_type": "code",
   "execution_count": 46,
   "metadata": {},
   "outputs": [],
   "source": [
    "# Apex parameters\n",
    "intensity_accu = 3e5\n",
    "delay = 0.1\n",
    "min_scan = 0.1\n",
    "max_scan = 0.5\n",
    "transient_time = 30"
   ]
  },
  {
   "cell_type": "code",
   "execution_count": 47,
   "metadata": {},
   "outputs": [
    {
     "name": "stderr",
     "output_type": "stream",
     "text": [
      "rm: cannot remove 'results_targeted_MS2Planner_apex': No such file or directory\n",
      "rm: cannot remove 'download_results_targeted_MS2Planner_apex': No such file or directory\n",
      "[I 230316 15:12:29 IODA_MS2Planner_workflow:283] STARTING THE MS2Planner WORKFLOW\n",
      "[I 230316 15:12:29 IODA_MS2Planner_workflow:293] the input_filename variable should be a valid path/download link or must be: 'OpenMS_generated', when using the OpenMS workflow online\n",
      "[I 230316 15:12:29 IODA_MS2Planner_workflow:296] 2023-03-16 15:12:29.806323\n",
      "[I 230316 15:12:29 IODA_MS2Planner_workflow:298] ======\n",
      "[I 230316 15:12:29 IODA_MS2Planner_workflow:299] Getting the mzTab\n",
      "[I 230316 15:12:29 IODA_MS2Planner_workflow:315] This is the input file path: tests/Euphorbia/Targeted/ioda_input/Euphorbia_rogers_latex_Blank_MS1_2uL_to_Euphorbia_rogers_latex_latex_MS1_2uL_mrgd.mzTab\n",
      "[I 230316 15:12:29 IODA_MS2Planner_workflow:316] This is the output file path: results_targeted_MS2Planner_apex/Euphorbia_rogers_latex_Blank_MS1_2uL_to_Euphorbia_rogers_latex_latex_MS1_2uL_mrgd.csv\n",
      "[I 230316 15:12:29 IODA_MS2Planner_workflow:320] ======\n",
      "[I 230316 15:12:29 IODA_MS2Planner_workflow:321] Converting mzTab to intermediate table format ...\n",
      "/home/jovyan/IODA_MS2Planner_workflow.py:322: FutureWarning: The error_bad_lines argument has been deprecated and will be removed in a future version.\n",
      "\n",
      "\n",
      "  convert_mzTab_to_table(input_filename,output_filename)\n",
      "/home/jovyan/IODA_MS2Planner_workflow.py:322: FutureWarning: The warn_bad_lines argument has been deprecated and will be removed in a future version.\n",
      "\n",
      "\n",
      "  convert_mzTab_to_table(input_filename,output_filename)\n",
      "[I 230316 15:12:29 IODA_MS2Planner_workflow:76] - For sample Euphorbia_rogers_latex_Blank_MS1_2uL the sum of feature intensities is = 6.67e+08\n",
      "[I 230316 15:12:29 IODA_MS2Planner_workflow:78] - For sample Euphorbia_rogers_latex_latex_MS1_2uL the sum of feature intensities = 5.75e+10\n",
      "[I 230316 15:12:29 IODA_MS2Planner_workflow:323] ======\n",
      "[I 230316 15:12:29 IODA_MS2Planner_workflow:328] Assumed sample filename: Euphorbia_rogers_latex_latex_MS1_2uL\n",
      "[I 230316 15:12:29 IODA_MS2Planner_workflow:330] Assumed blank filename: Euphorbia_rogers_latex_Blank_MS1_2uL\n",
      "[I 230316 15:12:29 IODA_MS2Planner_workflow:331] ======\n",
      "[I 230316 15:12:29 IODA_MS2Planner_workflow:334] User-defined parameters\n",
      "[I 230316 15:12:29 IODA_MS2Planner_workflow:336]     Ratio between sample/blank for ion filtering = 3\n",
      "[I 230316 15:12:29 IODA_MS2Planner_workflow:338]     Minimum intensity for ion filtering in sample = 3.00e+04\n",
      "[I 230316 15:12:29 IODA_MS2Planner_workflow:339]     Precursor ion intensity to accumulate in the MS2 scan = 3.00e+05\n",
      "[I 230316 15:12:29 IODA_MS2Planner_workflow:340]     Isolation window (m/z) = 1.5\n",
      "[I 230316 15:12:29 IODA_MS2Planner_workflow:341]     Delay between targeted MS2 scans (sec.)= 0.1\n",
      "[I 230316 15:12:29 IODA_MS2Planner_workflow:342]     Minimum MS2 scan duty cycle (sec.)= 0.1\n",
      "[I 230316 15:12:29 IODA_MS2Planner_workflow:343]     Maximum MS2 scan duty cycle (sec.)= 0.5\n",
      "[I 230316 15:12:29 IODA_MS2Planner_workflow:345]     Number of iterative experiment(s) = 5\n",
      "[I 230316 15:12:29 IODA_MS2Planner_workflow:346] User-defined parameters for the output\n",
      "[I 230316 15:12:29 IODA_MS2Planner_workflow:347]     Retention time margin for target ion list (sec. = 0.3\n",
      "[I 230316 15:12:29 IODA_MS2Planner_workflow:348]     Orbitrap transient + overhead time for MaxQuant.Live (msec.) = 30\n",
      "[I 230316 15:12:29 IODA_MS2Planner_workflow:350] ======\n",
      "[I 230316 15:12:29 IODA_MS2Planner_workflow:353] Running MS2Planner in Apex mode ...\n",
      "[I 230316 15:12:29 IODA_MS2Planner_workflow:694] Command: python3 MS2Planner/path_finder.py apex results_targeted_MS2Planner_apex/Euphorbia_rogers_latex_Blank_MS1_2uL_to_Euphorbia_rogers_latex_latex_MS1_2uL_mrgd.csv results_targeted_MS2Planner_apex/Euphorbia_rogers_latex_Blank_MS1_2uL_to_Euphorbia_rogers_latex_latex_MS1_2uL_mrgd_MS2Planner.csv 30000.0 3 5 -intensity_accu 300000.0 -isolation 1.5 -delay 0.1 -min_scan 0.1 -max_scan 0.5\n",
      "[I 230316 15:12:31 IODA_MS2Planner_workflow:370] ======\n",
      "[I 230316 15:12:31 IODA_MS2Planner_workflow:374] 2023-03-16 15:12:30,455 - path_finder - INFO - =============\n",
      "    2023-03-16 15:12:30,455 - path_finder - INFO - Apex mode begin\n",
      "    2023-03-16 15:12:30,455 - path_finder - INFO - =============\n",
      "    2023-03-16 15:12:30,455 - path_finder - INFO - File Read\n",
      "    2023-03-16 15:12:30,455 - path_finder - INFO - =============\n",
      "    2023-03-16 15:12:30,456 - path_finder - INFO - Begin Finding Path\n",
      "    2023-03-16 15:12:30,456 - path_finder - INFO - =============\n",
      "    2023-03-16 15:12:30,590 - path_finder.apex - INFO - [1/5]: features: 550, rest: 5609\n",
      "    2023-03-16 15:12:30,680 - path_finder.apex - INFO - [2/5]: features: 466, rest: 5059\n",
      "    2023-03-16 15:12:30,764 - path_finder.apex - INFO - [3/5]: features: 407, rest: 4593\n",
      "    2023-03-16 15:12:30,843 - path_finder.apex - INFO - [4/5]: features: 347, rest: 4186\n",
      "    2023-03-16 15:12:30,922 - path_finder.apex - INFO - [5/5]: features: 317, rest: 3839\n",
      "    2023-03-16 15:12:30,927 - path_finder - INFO - Paths Generated\n",
      "    2023-03-16 15:12:30,927 - path_finder - INFO - =============\n",
      "    2023-03-16 15:12:30,943 - path_finder - INFO - File Written\n",
      "    2023-03-16 15:12:30,943 - path_finder - INFO - =============\n",
      "    \n",
      "[I 230316 15:12:31 IODA_MS2Planner_workflow:376] ======\n",
      "[I 230316 15:12:31 IODA_MS2Planner_workflow:381] MS2Planner output found\n",
      "[I 230316 15:12:31 IODA_MS2Planner_workflow:391] Preparing results ...\n",
      "[I 230316 15:12:31 IODA_MS2Planner_workflow:651] File processed: results_targeted_MS2Planner_apex/Euphorbia_rogers_latex_Blank_MS1_2uL_to_Euphorbia_rogers_latex_latex_MS1_2uL_mrgd_MS2Planner.csv\n",
      "[I 230316 15:12:31 IODA_MS2Planner_workflow:652] ======\n",
      "/home/jovyan/IODA_MS2Planner_workflow.py:660: FutureWarning: The error_bad_lines argument has been deprecated and will be removed in a future version.\n",
      "\n",
      "\n",
      "  MS2Planner_format(input_filename,output_filename, counter)\n",
      "/home/jovyan/IODA_MS2Planner_workflow.py:660: FutureWarning: The warn_bad_lines argument has been deprecated and will be removed in a future version.\n",
      "\n",
      "\n",
      "  MS2Planner_format(input_filename,output_filename, counter)\n",
      "[I 230316 15:12:31 IODA_MS2Planner_workflow:644] Valid target ions in path1 = 550\n",
      "[I 230316 15:12:31 IODA_MS2Planner_workflow:661] Formatting to XCalibur format ...\n",
      "[I 230316 15:12:31 IODA_MS2Planner_workflow:664] Formatting for MaxQuant.Live ...\n",
      "[I 230316 15:12:31 IODA_MS2Planner_workflow:667] =======\n",
      "[I 230316 15:12:31 IODA_MS2Planner_workflow:644] Valid target ions in path2 = 466\n",
      "[I 230316 15:12:31 IODA_MS2Planner_workflow:661] Formatting to XCalibur format ...\n",
      "[I 230316 15:12:31 IODA_MS2Planner_workflow:664] Formatting for MaxQuant.Live ...\n",
      "[I 230316 15:12:31 IODA_MS2Planner_workflow:667] =======\n",
      "[I 230316 15:12:31 IODA_MS2Planner_workflow:644] Valid target ions in path3 = 407\n",
      "[I 230316 15:12:31 IODA_MS2Planner_workflow:661] Formatting to XCalibur format ...\n",
      "[I 230316 15:12:31 IODA_MS2Planner_workflow:664] Formatting for MaxQuant.Live ...\n",
      "[I 230316 15:12:31 IODA_MS2Planner_workflow:667] =======\n",
      "[I 230316 15:12:31 IODA_MS2Planner_workflow:644] Valid target ions in path4 = 347\n",
      "[I 230316 15:12:31 IODA_MS2Planner_workflow:661] Formatting to XCalibur format ...\n",
      "[I 230316 15:12:31 IODA_MS2Planner_workflow:664] Formatting for MaxQuant.Live ...\n",
      "[I 230316 15:12:31 IODA_MS2Planner_workflow:667] =======\n",
      "[I 230316 15:12:31 IODA_MS2Planner_workflow:644] Valid target ions in path5 = 317\n",
      "[I 230316 15:12:31 IODA_MS2Planner_workflow:661] Formatting to XCalibur format ...\n",
      "[I 230316 15:12:31 IODA_MS2Planner_workflow:664] Formatting for MaxQuant.Live ...\n",
      "[I 230316 15:12:31 IODA_MS2Planner_workflow:667] =======\n",
      "[I 230316 15:12:31 IODA_MS2Planner_workflow:676] results_targeted_MS2Planner_apex\n",
      "[I 230316 15:12:35 IODA_MS2Planner_workflow:393] ======\n",
      "[I 230316 15:12:35 IODA_MS2Planner_workflow:395] Cleaning and zipping workflow results files ...\n",
      "[I 230316 15:12:35 IODA_MS2Planner_workflow:119] All files zipped successfully!\n",
      "[I 230316 15:12:35 IODA_MS2Planner_workflow:424] ======\n",
      "[I 230316 15:12:35 IODA_MS2Planner_workflow:425] END OF THE MS2Planner WORKFLOW\n",
      "[I 230316 15:12:35 IODA_MS2Planner_workflow:426] ======\n"
     ]
    },
    {
     "name": "stdout",
     "output_type": "stream",
     "text": [
      " \n"
     ]
    },
    {
     "data": {
      "text/plain": [
       "<Figure size 640x480 with 0 Axes>"
      ]
     },
     "metadata": {},
     "output_type": "display_data"
    },
    {
     "data": {
      "text/plain": [
       "<Figure size 640x480 with 0 Axes>"
      ]
     },
     "metadata": {},
     "output_type": "display_data"
    },
    {
     "data": {
      "text/plain": [
       "<Figure size 640x480 with 0 Axes>"
      ]
     },
     "metadata": {},
     "output_type": "display_data"
    }
   ],
   "source": [
    "# Run Path Finder with Apex method   \n",
    "run_MS2Planner_apex_from_mzTab(input_mzTab, experiment_number, min_ratio_value, \n",
    "                               min_intensity_value, intensity_accu, isolation, delay, min_scan, max_scan,\n",
    "                               rt_margin, transient_time)"
   ]
  },
  {
   "cell_type": "markdown",
   "metadata": {},
   "source": [
    "## Curve mode"
   ]
  },
  {
   "cell_type": "code",
   "execution_count": 77,
   "metadata": {},
   "outputs": [
    {
     "name": "stderr",
     "output_type": "stream",
     "text": [
      "[I 200817 04:43:19 IODA_run_OpenMS_targeted:216] 2020-08-17 04:43:19.763345\n",
      "[I 200817 04:43:19 IODA_run_OpenMS_targeted:217] STARTING the Path Finder Curve processing\n",
      "[I 200817 04:43:19 IODA_run_OpenMS_targeted:218] ======\n",
      "[I 200817 04:43:19 IODA_run_OpenMS_targeted:219] Path to the input files: \n",
      "[I 200817 04:43:19 IODA_run_OpenMS_targeted:220]     Sample: tests/Euphorbia/Targeted/toppas_input/Euphorbia_rogers_latex_latex_MS1_2uL.mzML\n",
      "[I 200817 04:43:19 IODA_run_OpenMS_targeted:222] ======\n",
      "[I 200817 04:43:19 IODA_run_OpenMS_targeted:223] Download the latest version of the workflow from the repository ...\n",
      "[I 200817 04:43:19 IODA_run_OpenMS_targeted:227] wget https://github.com/lfnothias/IODA_MS/raw/MS2Planner_master/TOPPAS_Workflow/MS1_PathFinder_Curve_mzTab.toppas -O TOPPAS_Workflow/MS1_PathFinder_Curve_mzTab.toppas\n"
     ]
    },
    {
     "name": "stdout",
     "output_type": "stream",
     "text": [
      "tests/Euphorbia/Targeted/toppas_input/Euphorbia_rogers_latex_latex_MS1_2uL.mzML\n"
     ]
    },
    {
     "name": "stderr",
     "output_type": "stream",
     "text": [
      "[I 200817 04:43:20 IODA_run_OpenMS_targeted:249] ======\n",
      "[I 200817 04:43:20 IODA_run_OpenMS_targeted:250] Initializing the OpenMS workflow\n",
      "[I 200817 04:43:20 IODA_run_OpenMS_targeted:258] ======\n",
      "[I 200817 04:43:20 IODA_run_OpenMS_targeted:259] Running the OpenMS workflow, this usually takes couple minutes, please wait ...\n",
      "[I 200817 04:43:20 IODA_run_OpenMS_targeted:262] cd TOPPAS_Workflow && /openms-build/bin/ExecutePipeline -in MS1_PathFinder_Curve_mzTab.toppas -out_dir toppas_output\n",
      "[I 200817 04:44:37 IODA_run_OpenMS_targeted:281] ======\n",
      "[I 200817 04:44:37 IODA_run_OpenMS_targeted:282] Completed the OpenMS workflow\n",
      "[I 200817 04:44:37 IODA_run_OpenMS_targeted:283] ======\n",
      "[I 200817 04:44:37 IODA_run_OpenMS_targeted:284] Zipping up the OpenMS workflow results ..\n",
      "[I 200817 04:44:37 IODA_exclusion_workflow:156] All files zipped successfully!\n",
      "[I 200817 04:44:37 IODA_run_OpenMS_targeted:287] ======\n",
      "[I 200817 04:44:37 IODA_run_OpenMS_targeted:288] Completed zipping up the OpenMS workflow result files\n",
      "[I 200817 04:44:37 IODA_run_OpenMS_targeted:290] ======\n",
      "[I 200817 04:44:37 IODA_run_OpenMS_targeted:291] NOW CONTINUE WITH THE REST OF THE WORKFLOW\n"
     ]
    }
   ],
   "source": [
    "print(input_SAMPLE)\n",
    "Path_Finder_Curve_OpenMS(input_SAMPLE,ppm_error,noise_level)"
   ]
  },
  {
   "cell_type": "code",
   "execution_count": 50,
   "metadata": {},
   "outputs": [],
   "source": [
    "# Curve parameters\n",
    "input_filename_curve = 'test/Euphorbia/MS2Planner_curve_file/Euphorbia_rogers_latex_latex_MS1_2uL.mzTab'\n",
    "intensity_accu = 3e5\n",
    "delay = 0.1\n",
    "restriction = 2\n",
    "mz_accuracy = 0.02\n",
    "transient_time = 100 #ms"
   ]
  },
  {
   "cell_type": "code",
   "execution_count": 54,
   "metadata": {},
   "outputs": [],
   "source": [
    "#input_filename_curve = \"tests/Euphorbia/Targeted/toppas_input/Euphorbia_rogers_latex_latex_MS1_2uL.mzML\"\n",
    "rt_tolerance_curve = 2 \n",
    "mz_tolerance_curve = 0.02\n",
    "intensity_accu = 1e6\n",
    "curve = 'kNN'\n",
    "min_scan = 0.1\n",
    "max_scan = 0.5\n",
    "cluster = 'kNN'\n",
    "\n",
    "#!python3 MS2Planner/path_finder.py curve results_targeted_MS2Planner_curve/mrgd.csv \n",
    "#results_targeted_MS2Planner_curve/Euphorbia_rogers_Planner.csv\n",
    "#0 3 3 -infile_raw Euphorbia_rogers_latex_latex_MS1_2uL.mzML \n",
    "#-intensity_accu 1000000.0 -restriction 2 0.02 -isolation 1.5 -delay 0.02 -min_scan 0.1 -max_scan 0.5 -cluster kNN\n"
   ]
  },
  {
   "cell_type": "code",
   "execution_count": 53,
   "metadata": {},
   "outputs": [
    {
     "name": "stderr",
     "output_type": "stream",
     "text": [
      "rm: cannot remove 'results_targeted_MS2Planner_curve': No such file or directory\n",
      "rm: cannot remove 'download_results_targeted_MS2Planner_curve': No such file or directory\n",
      "[I 230316 15:21:54 IODA_MS2Planner_workflow:442] STARTING THE MS2Planner WORKFLOW\n",
      "[I 230316 15:21:54 IODA_MS2Planner_workflow:452] the input_filename variable should be a valid path/download link or must be: 'OpenMS_generated', when using the OpenMS workflow online\n",
      "[I 230316 15:21:54 IODA_MS2Planner_workflow:455] 2023-03-16 15:21:54.218850\n",
      "[I 230316 15:21:54 IODA_MS2Planner_workflow:457] ======\n",
      "[I 230316 15:21:54 IODA_MS2Planner_workflow:458] Getting the mzTab\n",
      "[I 230316 15:21:54 IODA_MS2Planner_workflow:474] This is the input file path: tests/Euphorbia/Targeted/ioda_input/Euphorbia_rogers_latex_Blank_MS1_2uL_to_Euphorbia_rogers_latex_latex_MS1_2uL_mrgd.mzTab\n",
      "[I 230316 15:21:54 IODA_MS2Planner_workflow:475] This is the output file path: results_targeted_MS2Planner_curve/Euphorbia_rogers_latex_Blank_MS1_2uL_to_Euphorbia_rogers_latex_latex_MS1_2uL_mrgd.csv\n",
      "[I 230316 15:21:54 IODA_MS2Planner_workflow:496] Problem with the mzTab file or file path ! Please verify\n",
      "[I 230316 15:21:54 IODA_MS2Planner_workflow:502] ======\n",
      "[I 230316 15:21:54 IODA_MS2Planner_workflow:503] Converting mzTab to intermediate table format ...\n",
      "/home/jovyan/IODA_MS2Planner_workflow.py:504: FutureWarning: The error_bad_lines argument has been deprecated and will be removed in a future version.\n",
      "\n",
      "\n",
      "  convert_mzTab_to_table(input_filename,output_filename)\n",
      "/home/jovyan/IODA_MS2Planner_workflow.py:504: FutureWarning: The warn_bad_lines argument has been deprecated and will be removed in a future version.\n",
      "\n",
      "\n",
      "  convert_mzTab_to_table(input_filename,output_filename)\n",
      "[I 230316 15:21:54 IODA_MS2Planner_workflow:76] - For sample Euphorbia_rogers_latex_Blank_MS1_2uL the sum of feature intensities is = 6.67e+08\n",
      "[I 230316 15:21:54 IODA_MS2Planner_workflow:78] - For sample Euphorbia_rogers_latex_latex_MS1_2uL the sum of feature intensities = 5.75e+10\n",
      "[I 230316 15:21:54 IODA_MS2Planner_workflow:505] ======\n",
      "[I 230316 15:21:54 IODA_MS2Planner_workflow:510] Assumed sample filename: Euphorbia_rogers_latex_latex_MS1_2uL\n",
      "[I 230316 15:21:54 IODA_MS2Planner_workflow:512] Assumed blank filename: Euphorbia_rogers_latex_Blank_MS1_2uL\n",
      "[I 230316 15:21:54 IODA_MS2Planner_workflow:513] Sample for the Curve mode: test/Euphorbia/MS2Planner_curve_file/Euphorbia_rogers_latex_latex_MS1_2uL.mzTab\n",
      "[I 230316 15:21:54 IODA_MS2Planner_workflow:514] ======\n",
      "[I 230316 15:21:54 IODA_MS2Planner_workflow:518] User-defined parameters for MS2Planner\n",
      "[I 230316 15:21:54 IODA_MS2Planner_workflow:520]     Ratio between sample/blank for ion filtering = 3\n",
      "[I 230316 15:21:54 IODA_MS2Planner_workflow:522]     Minimum intensity for ion filtering in sample = 3.00e+04\n",
      "[I 230316 15:21:54 IODA_MS2Planner_workflow:523]     Precursor ion intensity to accumulate in the MS2 scan = 1.00e+06\n",
      "[I 230316 15:21:54 IODA_MS2Planner_workflow:524]     Input file for curve data : test/Euphorbia/MS2Planner_curve_file/Euphorbia_rogers_latex_latex_MS1_2uL.mzTab\n",
      "[I 230316 15:21:54 IODA_MS2Planner_workflow:525]     Restriction parameter : 2\n",
      "[I 230316 15:21:54 IODA_MS2Planner_workflow:526]     Mass accuracy (m/z): 0.02\n",
      "[I 230316 15:21:54 IODA_MS2Planner_workflow:527]     Isolation window (m/z) = 1.5\n",
      "[I 230316 15:21:54 IODA_MS2Planner_workflow:528]     Delay between targeted MS2 scans (sec.)= 0.1\n",
      "[I 230316 15:21:54 IODA_MS2Planner_workflow:529]     Minimum MS2 scan duty cycle (sec.)= 0.1\n",
      "[I 230316 15:21:54 IODA_MS2Planner_workflow:530]     Maximum MS2 scan duty cycle (sec.)= 0.5\n",
      "[I 230316 15:21:54 IODA_MS2Planner_workflow:532]     Number of iterative experiment(s) = 5\n",
      "[I 230316 15:21:54 IODA_MS2Planner_workflow:533]     Mode for the curve mode: kNN\n",
      "[I 230316 15:21:54 IODA_MS2Planner_workflow:534] User-defined parameters for the output\n",
      "[I 230316 15:21:54 IODA_MS2Planner_workflow:535]     Retention time margin for target ion list (sec.) = 0.3\n",
      "[I 230316 15:21:54 IODA_MS2Planner_workflow:536]     Orbitrap transient + overhead time for MaxQuant.Live (msec.) = 100\n",
      "[I 230316 15:21:54 IODA_MS2Planner_workflow:537] ======\n",
      "[I 230316 15:21:54 IODA_MS2Planner_workflow:540] Running MS2Planner in Curve mode ...\n",
      "[I 230316 15:21:54 IODA_MS2Planner_workflow:699] Command: python3 MS2Planner/path_finder.py curve results_targeted_MS2Planner_curve/Euphorbia_rogers_latex_Blank_MS1_2uL_to_Euphorbia_rogers_latex_latex_MS1_2uL_mrgd.csv results_targeted_MS2Planner_curve/Euphorbia_rogers_latex_Blank_MS1_2uL_to_Euphorbia_rogers_latex_latex_MS1_2uL_mrgd_MS2Planner.csv 30000.0 3 5 -infile_raw test/Euphorbia/MS2Planner_curve_file/Euphorbia_rogers_latex_latex_MS1_2uL.mzTab -intensity_accu 1000000.0 -restriction 2 0.02 -isolation 1.5 -delay 0.1 -min_scan 0.1 -max_scan 0.5 -cluster kNN\n",
      "[I 230316 15:21:54 IODA_MS2Planner_workflow:700] MS2Planner in Curve mode can take up to 10 minutes to complete ... please wait\n"
     ]
    },
    {
     "name": "stdout",
     "output_type": "stream",
     "text": [
      "<---------- !!!!!!!!!!!!!!!!!! ---------->\n",
      "Problem with the mzTab file or file path ! Please verify\n",
      "<---------- !!!!!!!!!!!!!!!!!! ---------->\n"
     ]
    },
    {
     "name": "stderr",
     "output_type": "stream",
     "text": [
      "[I 230316 15:21:55 IODA_MS2Planner_workflow:559] ======\n",
      "[I 230316 15:21:55 IODA_MS2Planner_workflow:563] 2023-03-16 15:21:54,915 - path_finder - INFO - =============\n",
      "    2023-03-16 15:21:54,915 - path_finder - INFO - Curve mode begin\n",
      "    2023-03-16 15:21:54,915 - path_finder - INFO - restriction: (2.0000, 0.0200)\n",
      "    2023-03-16 15:21:54,930 - path_finder.curve - ERROR - error in reading data from input file\n",
      "    Traceback (most recent call last):\n",
      "      File \"/home/jovyan/MS2Planner/path_curve.py\", line 685, in PathGen\n",
      "        data = np.genfromtxt(infile_raw, skip_header=12)\n",
      "      File \"/srv/conda/envs/notebook/lib/python3.7/site-packages/numpy/lib/npyio.py\", line 1793, in genfromtxt\n",
      "        fid = np.lib._datasource.open(fname, 'rt', encoding=encoding)\n",
      "      File \"/srv/conda/envs/notebook/lib/python3.7/site-packages/numpy/lib/_datasource.py\", line 193, in open\n",
      "        return ds.open(path, mode, encoding=encoding, newline=newline)\n",
      "      File \"/srv/conda/envs/notebook/lib/python3.7/site-packages/numpy/lib/_datasource.py\", line 533, in open\n",
      "        raise IOError(\"%s not found.\" % path)\n",
      "    OSError: test/Euphorbia/MS2Planner_curve_file/Euphorbia_rogers_latex_latex_MS1_2uL.mzTab not found.\n",
      "    \n",
      "cp: cannot create regular file 'results_targeted_MS2Planner_curve/log/path_finder_curve.log': No such file or directory\n",
      "[I 230316 15:21:55 IODA_MS2Planner_workflow:575] Problem when running MS2Planner !!!\n",
      "[I 230316 15:21:55 IODA_MS2Planner_workflow:579] ======\n",
      "[I 230316 15:21:55 IODA_MS2Planner_workflow:580] Preparing results ...\n",
      "sed: can't read results_targeted_MS2Planner_curve/Euphorbia_rogers_latex_Blank_MS1_2uL_to_Euphorbia_rogers_latex_latex_MS1_2uL_mrgd_MS2Planner.csv: No such file or directory\n",
      "[I 230316 15:21:55 IODA_MS2Planner_workflow:651] File processed: results_targeted_MS2Planner_curve/Euphorbia_rogers_latex_Blank_MS1_2uL_to_Euphorbia_rogers_latex_latex_MS1_2uL_mrgd_MS2Planner.csv\n",
      "[I 230316 15:21:55 IODA_MS2Planner_workflow:652] ======\n"
     ]
    },
    {
     "name": "stdout",
     "output_type": "stream",
     "text": [
      "<---------- !!!!!!!!!!!!!!!!!! ---------->\n",
      "Problem when running MS2Planner !!!\n",
      "<---------- !!!!!!!!!!!!!!!!!! ---------->\n"
     ]
    },
    {
     "ename": "FileNotFoundError",
     "evalue": "[Errno 2] No such file or directory: 'results_targeted_MS2Planner_curve/Euphorbia_rogers_latex_Blank_MS1_2uL_to_Euphorbia_rogers_latex_latex_MS1_2uL_mrgd_MS2Planner.csv'",
     "output_type": "error",
     "traceback": [
      "\u001b[0;31m---------------------------------------------------------------------------\u001b[0m",
      "\u001b[0;31mFileNotFoundError\u001b[0m                         Traceback (most recent call last)",
      "\u001b[0;32m/tmp/ipykernel_95/2171219656.py\u001b[0m in \u001b[0;36m<module>\u001b[0;34m\u001b[0m\n\u001b[1;32m      3\u001b[0m                                  \u001b[0mmin_intensity_value\u001b[0m\u001b[0;34m,\u001b[0m \u001b[0minput_filename_curve\u001b[0m\u001b[0;34m,\u001b[0m \u001b[0mintensity_accu\u001b[0m\u001b[0;34m,\u001b[0m\u001b[0;34m\u001b[0m\u001b[0;34m\u001b[0m\u001b[0m\n\u001b[1;32m      4\u001b[0m                                  \u001b[0mrt_tolerance_curve\u001b[0m\u001b[0;34m,\u001b[0m \u001b[0mmz_tolerance_curve\u001b[0m\u001b[0;34m,\u001b[0m \u001b[0misolation\u001b[0m\u001b[0;34m,\u001b[0m \u001b[0mdelay\u001b[0m\u001b[0;34m,\u001b[0m\u001b[0;34m\u001b[0m\u001b[0;34m\u001b[0m\u001b[0m\n\u001b[0;32m----> 5\u001b[0;31m                                  min_scan, max_scan, cluster, rt_margin, transient_time)\n\u001b[0m\u001b[1;32m      6\u001b[0m \u001b[0;34m\u001b[0m\u001b[0m\n\u001b[1;32m      7\u001b[0m \u001b[0;31m#def run_MS2Planner_curve_from_mzTab(input_filename:int, num_path:int, intensity_ratio:float,\u001b[0m\u001b[0;34m\u001b[0m\u001b[0;34m\u001b[0m\u001b[0;34m\u001b[0m\u001b[0m\n",
      "\u001b[0;32m~/IODA_MS2Planner_workflow.py\u001b[0m in \u001b[0;36mrun_MS2Planner_curve_from_mzTab\u001b[0;34m(input_filename, num_path, intensity_ratio, intensity_threshold, input_filename_curve, intensity_accu, rt_tolerance_curve, mz_tolerance_curve, isolation, delay, min_scan, max_scan, cluster, rt_margin, transient_time)\u001b[0m\n\u001b[1;32m    579\u001b[0m     \u001b[0mlogger\u001b[0m\u001b[0;34m.\u001b[0m\u001b[0minfo\u001b[0m\u001b[0;34m(\u001b[0m\u001b[0;34m'======'\u001b[0m\u001b[0;34m)\u001b[0m\u001b[0;34m\u001b[0m\u001b[0;34m\u001b[0m\u001b[0m\n\u001b[1;32m    580\u001b[0m     \u001b[0mlogger\u001b[0m\u001b[0;34m.\u001b[0m\u001b[0minfo\u001b[0m\u001b[0;34m(\u001b[0m\u001b[0;34m'Preparing results ...'\u001b[0m\u001b[0;34m)\u001b[0m\u001b[0;34m\u001b[0m\u001b[0;34m\u001b[0m\u001b[0m\n\u001b[0;32m--> 581\u001b[0;31m     \u001b[0mmake_MS2Planner_targeted_lists_from_table\u001b[0m\u001b[0;34m(\u001b[0m\u001b[0moutput_filename\u001b[0m\u001b[0;34m[\u001b[0m\u001b[0;34m:\u001b[0m\u001b[0;34m-\u001b[0m\u001b[0;36m4\u001b[0m\u001b[0;34m]\u001b[0m\u001b[0;34m+\u001b[0m\u001b[0;34m'_MS2Planner.csv'\u001b[0m\u001b[0;34m,\u001b[0m \u001b[0mrt_margin\u001b[0m\u001b[0;34m,\u001b[0m \u001b[0mtransient_time\u001b[0m\u001b[0;34m)\u001b[0m\u001b[0;34m\u001b[0m\u001b[0;34m\u001b[0m\u001b[0m\n\u001b[0m\u001b[1;32m    582\u001b[0m     \u001b[0mlogger\u001b[0m\u001b[0;34m.\u001b[0m\u001b[0minfo\u001b[0m\u001b[0;34m(\u001b[0m\u001b[0;34m'======'\u001b[0m\u001b[0;34m)\u001b[0m\u001b[0;34m\u001b[0m\u001b[0;34m\u001b[0m\u001b[0m\n\u001b[1;32m    583\u001b[0m \u001b[0;34m\u001b[0m\u001b[0m\n",
      "\u001b[0;32m~/IODA_MS2Planner_workflow.py\u001b[0m in \u001b[0;36mmake_MS2Planner_targeted_lists_from_table\u001b[0;34m(input_filename, rt_margin, transient_time)\u001b[0m\n\u001b[1;32m    651\u001b[0m     \u001b[0mlogger\u001b[0m\u001b[0;34m.\u001b[0m\u001b[0minfo\u001b[0m\u001b[0;34m(\u001b[0m\u001b[0;34m'File processed: '\u001b[0m\u001b[0;34m+\u001b[0m\u001b[0minput_filename\u001b[0m\u001b[0;34m)\u001b[0m\u001b[0;34m\u001b[0m\u001b[0;34m\u001b[0m\u001b[0m\n\u001b[1;32m    652\u001b[0m     \u001b[0mlogger\u001b[0m\u001b[0;34m.\u001b[0m\u001b[0minfo\u001b[0m\u001b[0;34m(\u001b[0m\u001b[0;34m'======'\u001b[0m\u001b[0;34m)\u001b[0m\u001b[0;34m\u001b[0m\u001b[0;34m\u001b[0m\u001b[0m\n\u001b[0;32m--> 653\u001b[0;31m     \u001b[0;32mwith\u001b[0m \u001b[0mopen\u001b[0m\u001b[0;34m(\u001b[0m\u001b[0minput_filename\u001b[0m\u001b[0;34m)\u001b[0m \u001b[0;32mas\u001b[0m \u001b[0mfile\u001b[0m\u001b[0;34m:\u001b[0m\u001b[0;34m\u001b[0m\u001b[0;34m\u001b[0m\u001b[0m\n\u001b[0m\u001b[1;32m    654\u001b[0m         \u001b[0mcounter\u001b[0m \u001b[0;34m=\u001b[0m \u001b[0;34m-\u001b[0m\u001b[0;36m1\u001b[0m\u001b[0;34m\u001b[0m\u001b[0;34m\u001b[0m\u001b[0m\n\u001b[1;32m    655\u001b[0m         \u001b[0;32mfor\u001b[0m \u001b[0mline\u001b[0m \u001b[0;32min\u001b[0m \u001b[0mfile\u001b[0m\u001b[0;34m:\u001b[0m\u001b[0;34m\u001b[0m\u001b[0;34m\u001b[0m\u001b[0m\n",
      "\u001b[0;31mFileNotFoundError\u001b[0m: [Errno 2] No such file or directory: 'results_targeted_MS2Planner_curve/Euphorbia_rogers_latex_Blank_MS1_2uL_to_Euphorbia_rogers_latex_latex_MS1_2uL_mrgd_MS2Planner.csv'"
     ]
    }
   ],
   "source": [
    "# Run Path Finder with Curve method\n",
    "run_MS2Planner_curve_from_mzTab(input_mzTab, experiment_number, min_ratio_value, \n",
    "                                 min_intensity_value, input_filename_curve, intensity_accu, \n",
    "                                 rt_tolerance_curve, mz_tolerance_curve, isolation, delay, \n",
    "                                 min_scan, max_scan, cluster, rt_margin, transient_time)\n",
    "\n",
    "#def run_MS2Planner_curve_from_mzTab(input_filename:int, num_path:int, intensity_ratio:float,\n",
    "#                                    intensity_threshold:float, input_filename_curve:int, intensity_accu:float, \n",
    "#                                    rt_tolerance_curve:float, mz_tolerance_curve:float, isolation:float,\n",
    "#                                    delay:float, min_scan:float, max_scan:float, cluster:str, \n",
    "#                                    rt_margin:float, transient_time:float):\n"
   ]
  },
  {
   "cell_type": "code",
   "execution_count": 15,
   "metadata": {},
   "outputs": [
    {
     "name": "stdout",
     "output_type": "stream",
     "text": [
      "=============\n",
      "Curve mode begin\n",
      "Killed\n"
     ]
    }
   ],
   "source": [
    "!python3 path_finder.py curve results_targeted_pathfinder_curve/SA113_Media_SPE_MeOH_MS1_to_SA113_SPE_MeOH_MS1_mrgd.csv results_targeted_pathfinder_curve/SA113_Media_SPE_MeOH_MS1_to_SA113_SPE_MeOH_MS1_mrgd_PathFinder.csv 300000.0 3 5 -infile_raw tests/BP_mzTab/test_SA113_SPE_MeOH_MS1.mzTab -intensity_accu 300000.0 -restriction 2 0.02 -delta 0.1"
   ]
  },
  {
   "cell_type": "code",
   "execution_count": null,
   "metadata": {},
   "outputs": [],
   "source": []
  },
  {
   "cell_type": "code",
   "execution_count": null,
   "metadata": {},
   "outputs": [],
   "source": []
  },
  {
   "cell_type": "code",
   "execution_count": null,
   "metadata": {},
   "outputs": [],
   "source": []
  },
  {
   "cell_type": "code",
   "execution_count": null,
   "metadata": {},
   "outputs": [],
   "source": []
  },
  {
   "cell_type": "code",
   "execution_count": null,
   "metadata": {},
   "outputs": [],
   "source": []
  },
  {
   "cell_type": "code",
   "execution_count": null,
   "metadata": {},
   "outputs": [],
   "source": []
  },
  {
   "cell_type": "code",
   "execution_count": null,
   "metadata": {},
   "outputs": [],
   "source": []
  },
  {
   "cell_type": "code",
   "execution_count": null,
   "metadata": {},
   "outputs": [],
   "source": []
  },
  {
   "cell_type": "code",
   "execution_count": null,
   "metadata": {},
   "outputs": [],
   "source": []
  },
  {
   "cell_type": "code",
   "execution_count": null,
   "metadata": {},
   "outputs": [],
   "source": []
  },
  {
   "cell_type": "code",
   "execution_count": null,
   "metadata": {},
   "outputs": [],
   "source": []
  },
  {
   "cell_type": "code",
   "execution_count": null,
   "metadata": {},
   "outputs": [],
   "source": []
  },
  {
   "cell_type": "code",
   "execution_count": null,
   "metadata": {},
   "outputs": [],
   "source": []
  },
  {
   "cell_type": "markdown",
   "metadata": {},
   "source": [
    "### Step 0 - Generate an mzTab file\n",
    "\n",
    "The mzTab file must contain results from feature detection and alignment for the two samples: the \"reference\" sample and the \"blank' sample. Please refer to the [documentation page](link) for more information.\n",
    "\n",
    "### Step 1 - Upload the mzTab file\n",
    "\n",
    "##### <span style=\"color:brown\">Method 1 - Upload your mzTab file </span>\n",
    "\n",
    "Upload your mzML files on the Binder server with the Jupyter lab interface (drag-and-drop the file in the left panel or use the \"Upload\" icon). \n",
    "\n",
    "##### <span style=\"color:brown\">Method 2 - Web-sharing links</span>\n",
    "We support retrieving the files from the following cloud sharing services:\n",
    "> **Google Drive** : copy the sharing the link (make sure the sharing setting is set to 'Anyone with the link can download').\n",
    "\n",
    "> **MassIVE/GNPS repository** : copy the link for the file.\n",
    "\n",
    "\n",
    "### Step 3 - Specify the link or path to the mzTab file\n",
    "\n",
    "In the cell below, indicate the filename for the mzTab file. The filename must be into parenthesis,  such as: *\"myfile.mzTab\"*. If applicable change the path, such *\"input_folder/myfile.mzTab\"*."
   ]
  },
  {
   "cell_type": "code",
   "execution_count": null,
   "metadata": {},
   "outputs": [],
   "source": [
    "input_mzTab = 'https://drive.google.com/file/d/1NGVzhrw-xZ4nMJserIQ7v4tYgcmraZ6g/view?usp=sharing'"
   ]
  },
  {
   "cell_type": "markdown",
   "metadata": {},
   "source": [
    "### Step 4 - Specify the parameters of the IODA-targeted workflow\n",
    "Specify the parameter values for IODA-targeted workflow in the cell below:\n",
    "\n",
    "*min_ratio_value*: minimum ratio for the intensity of an ion/feature (peak height) between the reference and blank samples (reference/blank). Only ions above that ratio will be valid ion targets. (Default = 5).\n",
    "\n",
    "*min_intensity_value*: the minimum intensity (peak height) of an ion/feature in the reference sample to be considered as valid ion targets. (Default = 1E5).\n",
    "\n",
    "*experiment_number*: define the number of iterative experiment(s) to perform for the IODA-targeted workflow. If >2, the valid target ions will be splitted into (multiple) experiments (Default = 3, range 1-10)\n"
   ]
  },
  {
   "cell_type": "code",
   "execution_count": null,
   "metadata": {},
   "outputs": [],
   "source": [
    "min_ratio_value = 5\n",
    "min_intensity_value = 1E5\n",
    "experiment_number = 3"
   ]
  },
  {
   "cell_type": "markdown",
   "metadata": {},
   "source": [
    "### Step 5 - Run the IODA-targeted workflow\n",
    "\n",
    "Simply run the cell below to start the IODA-targeted workflow"
   ]
  },
  {
   "cell_type": "code",
   "execution_count": null,
   "metadata": {},
   "outputs": [],
   "source": [
    "from IODA_targeted_workflow import *\n",
    "make_targeted_list_from_mzTab(input_mzTab, experiment_number, min_ratio_value, min_intensity_value)"
   ]
  },
  {
   "cell_type": "markdown",
   "metadata": {},
   "source": [
    "### Step 6 - Examine the results\n",
    "\n",
    "**Visualise** : Run the cell below to show the scatter plot for the IODA-targeted workflow results. Valid targets in the reference sample are represented into experiment(s). The ion/features from the blank sample are also shown. Verify that the OpenMS parameter variables and IODA-targeted workflows are adapted to level you want to apply, and your sample(s) complexity.\n",
    "\n",
    "- Examine the IODA-targeted worflow log and the plots in order to verify that the 'min_intensity' parameter is adapted to exclusion level you want to apply, and your sample(s) complexity.\n",
    "- Note that, at this stage, it cannot be evaluated if ion detection was done optimally. This should be examinated during the generation of the mzTab file (such as with TOPPAS/OpenMS)."
   ]
  },
  {
   "cell_type": "code",
   "execution_count": null,
   "metadata": {},
   "outputs": [],
   "source": [
    "from IPython.display import Image\n",
    "Image(\"results_targeted/intermediate_files/experiment_blank_shared_TARGETED_RATIO_scatter_view.png\")\n",
    "Image(\"results_targeted/intermediate_files/experiment_blank_shared_TARGETED_INTENSITY_scatter_view.png\")"
   ]
  },
  {
   "cell_type": "markdown",
   "metadata": {},
   "source": [
    "### Step 7 - Download the results\n",
    "\n",
    "Download the IODA-targeted workflow results ->\n",
    "[download-results/IODA_targeted_results.zip](download-results/IODA_targeted_results.zip?download=1).\n",
    "\n",
    "### Step 8 - Prepare your IODA experiment\n",
    "Prepare the iterative mass spectrometry acquisition. For instructions on how to load and configure an exclusion list with XCalibur or MaxQuant.Live please refer to [the following documentation](nothing)."
   ]
  },
  {
   "cell_type": "code",
   "execution_count": null,
   "metadata": {},
   "outputs": [],
   "source": []
  }
 ],
 "metadata": {
  "kernelspec": {
   "display_name": "Python 3 (ipykernel)",
   "language": "python",
   "name": "python3"
  },
  "language_info": {
   "codemirror_mode": {
    "name": "ipython",
    "version": 3
   },
   "file_extension": ".py",
   "mimetype": "text/x-python",
   "name": "python",
   "nbconvert_exporter": "python",
   "pygments_lexer": "ipython3",
   "version": "3.7.12"
  }
 },
 "nbformat": 4,
 "nbformat_minor": 4
}
