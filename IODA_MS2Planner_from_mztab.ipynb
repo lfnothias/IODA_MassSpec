{
 "cells": [
  {
   "cell_type": "markdown",
   "metadata": {},
   "source": [
    "# <span style=\"color:red\"> Targeted-from-mzTab notebook for IODA </span>\n",
    "\n",
    "**Purpose**: The IODA targeted-from-mzTab workflow takes allows to generate list of target ions for iterative optimise data acquisition (IODA) of fragmentation spectra in LC-MS. It accepts as input an mzTab file with results for two samples: the \"reference\" sample and the \"blank\" sample. The targets are detected in the \"reference\" sample, and background ions are detected in the \"blank\" sample. Background ions are excluded from the targets. The targets can be acquired by IODA in one or multiple experiments for higher coverage.\n",
    "\n",
    "\n",
    "**Usage**: This notebook requires the user to provide an mzTab. If you need to process your LC-MS data, you can use our [IODA targeted-from-mzML notebook](IODA_targeted_from_mzML.ipynb), or refer to our documentation for more informations. The IODA targeted workflow defines the target ions, and these targets are then formatted for XCalibur or [MaxQuant.Live]\n",
    "\n",
    "**Documentation**: Please refer to the documentation page [See here](link).\n",
    "\n",
    "**Instructions**: Follow the instructions below and run the notebook cells accordingly."
   ]
  },
  {
   "cell_type": "code",
   "execution_count": 1,
   "metadata": {},
   "outputs": [],
   "source": []
  },
  {
   "cell_type": "code",
   "execution_count": 1,
   "metadata": {},
   "outputs": [],
   "source": [
    "# Blank sample\n",
    "input_BLANK = \"path_to_blank_sample_mzML\"\n",
    "# Reference sample\n",
    "input_SAMPLE = \"path_to_reference_mzML\"\n",
    "\n",
    "input_BLANK = \"tests/Euphorbia/Targeted/toppas_input/Euphorbia_rogers_latex_Blank_MS1_2uL.mzML\"\n",
    "input_SAMPLE = \"tests/Euphorbia/Targeted/toppas_input/Euphorbia_rogers_latex_latex_MS1_2uL.mzML\""
   ]
  },
  {
   "cell_type": "code",
   "execution_count": 2,
   "metadata": {},
   "outputs": [],
   "source": [
    "ppm_error = 10\n",
    "noise_level = 3E4"
   ]
  },
  {
   "cell_type": "code",
   "execution_count": 3,
   "metadata": {},
   "outputs": [
    {
     "ename": "ModuleNotFoundError",
     "evalue": "No module named 'xvfbwrapper'",
     "output_type": "error",
     "traceback": [
      "\u001b[0;31m---------------------------------------------------------------------------\u001b[0m",
      "\u001b[0;31mModuleNotFoundError\u001b[0m                       Traceback (most recent call last)",
      "Cell \u001b[0;32mIn[3], line 1\u001b[0m\n\u001b[0;32m----> 1\u001b[0m \u001b[39mfrom\u001b[39;00m \u001b[39mIODA_run_OpenMS_targeted\u001b[39;00m \u001b[39mimport\u001b[39;00m \u001b[39m*\u001b[39m\n\u001b[1;32m      2\u001b[0m IODA_targeted_workflow(input_BLANK,input_SAMPLE,ppm_error,noise_level)\n",
      "File \u001b[0;32m~/git/IODA_MassSpec/IODA_run_OpenMS_targeted.py:5\u001b[0m\n\u001b[1;32m      3\u001b[0m \u001b[39mimport\u001b[39;00m \u001b[39msubprocess\u001b[39;00m\n\u001b[1;32m      4\u001b[0m \u001b[39mimport\u001b[39;00m \u001b[39msys\u001b[39;00m\n\u001b[0;32m----> 5\u001b[0m \u001b[39mfrom\u001b[39;00m \u001b[39mxvfbwrapper\u001b[39;00m \u001b[39mimport\u001b[39;00m Xvfb\n\u001b[1;32m      6\u001b[0m \u001b[39mfrom\u001b[39;00m \u001b[39mlogzero\u001b[39;00m \u001b[39mimport\u001b[39;00m logger, logfile\n\u001b[1;32m      7\u001b[0m \u001b[39mimport\u001b[39;00m \u001b[39mdatetime\u001b[39;00m\n",
      "\u001b[0;31mModuleNotFoundError\u001b[0m: No module named 'xvfbwrapper'"
     ]
    }
   ],
   "source": [
    "from IODA_run_OpenMS_targeted import *\n",
    "IODA_targeted_workflow(input_BLANK,input_SAMPLE,ppm_error,noise_level) "
   ]
  },
  {
   "cell_type": "code",
   "execution_count": null,
   "metadata": {},
   "outputs": [],
   "source": []
  },
  {
   "cell_type": "code",
   "execution_count": 1,
   "metadata": {},
   "outputs": [],
   "source": [
    "#input_mzTab = 'tests/BP_mzTab/SA113_Media_SPE_MeOH_MS1_to_SA113_SPE_MeOH_MS1_mrgd.mzTab'\n",
    "input_mzTab = 'tests/Euphorbia/Targeted/ioda_input/Euphorbia_rogers_latex_Blank_MS1_2uL_to_Euphorbia_rogers_latex_latex_MS1_2uL_mrgd.mzTab'\n",
    "#input_filename = 'tests/BP_mzTab/SA113_Media_SPE_MeOH_MS1_to_SA113_SPE_MeOH_MS1_mrgd.mzTab'\n",
    "#output_filename = 'tests/BP_mzTab/TEMP_Media_SPE_MeOH_MS1_to_SA113_SPE_MeOH_MS1_mrgd.csv'\n",
    "#convert_mzTab_to_table(input_filename,output_filename)"
   ]
  },
  {
   "cell_type": "code",
   "execution_count": 2,
   "metadata": {},
   "outputs": [],
   "source": [
    "from IODA_MS2Planner_workflow import *"
   ]
  },
  {
   "cell_type": "code",
   "execution_count": 3,
   "metadata": {},
   "outputs": [],
   "source": [
    "# MS2Planner shared parameters\n",
    "min_ratio_value = 3\n",
    "min_intensity_value = 1E5\n",
    "experiment_number = 15\n",
    "isolation = 1\n",
    "delay = 0.02 #sec\n",
    "max_same_RT = 2\n",
    "\n",
    "# Target ion list parameters \n",
    "rt_margin = 0.12 #sec"
   ]
  },
  {
   "cell_type": "markdown",
   "metadata": {},
   "source": [
    "## Baseline mode"
   ]
  },
  {
   "cell_type": "code",
   "execution_count": 4,
   "metadata": {},
   "outputs": [],
   "source": [
    "# Baseline parameter\n",
    "win_len = 0.2"
   ]
  },
  {
   "cell_type": "code",
   "execution_count": 5,
   "metadata": {},
   "outputs": [
    {
     "name": "stderr",
     "output_type": "stream",
     "text": [
      "[I 230319 23:21:56 IODA_MS2Planner_workflow:130] STARTING THE MS2Planner WORKFLOW\n",
      "[I 230319 23:21:56 IODA_MS2Planner_workflow:141] the input_filename variable should be a valid path/download link or must be: 'OpenMS_generated', when using the OpenMS workflow online\n",
      "[I 230319 23:21:56 IODA_MS2Planner_workflow:144] 2023-03-19 23:21:56.668546\n",
      "[I 230319 23:21:56 IODA_MS2Planner_workflow:146] ======\n",
      "[I 230319 23:21:56 IODA_MS2Planner_workflow:147] Getting the mzTab\n",
      "[I 230319 23:21:56 IODA_MS2Planner_workflow:163] This is the input file path: tests/Euphorbia/Targeted/ioda_input/Euphorbia_rogers_latex_Blank_MS1_2uL_to_Euphorbia_rogers_latex_latex_MS1_2uL_mrgd.mzTab\n",
      "[I 230319 23:21:56 IODA_MS2Planner_workflow:164] This is the output file path: results_targeted_MS2Planner_baseline/Euphorbia_rogers_latex_Blank_MS1_2uL_to_Euphorbia_rogers_latex_latex_MS1_2uL_mrgd.csv\n",
      "[I 230319 23:21:56 IODA_MS2Planner_workflow:168] ======\n",
      "[I 230319 23:21:56 IODA_MS2Planner_workflow:169] Converting mzTab to intermediate table format ...\n",
      "[I 230319 23:21:56 IODA_MS2Planner_workflow:75] - For sample Euphorbia_rogers_latex_Blank_MS1_2uL the sum of feature intensities is = 6.67e+08\n",
      "[I 230319 23:21:56 IODA_MS2Planner_workflow:77] - For sample Euphorbia_rogers_latex_latex_MS1_2uL the sum of feature intensities = 5.75e+10\n",
      "[I 230319 23:21:56 IODA_MS2Planner_workflow:171] ======\n",
      "[I 230319 23:21:56 IODA_MS2Planner_workflow:176] Assumed sample filename: Euphorbia_rogers_latex_latex_MS1_2uL\n",
      "[I 230319 23:21:56 IODA_MS2Planner_workflow:178] Assumed blank filename: Euphorbia_rogers_latex_Blank_MS1_2uL\n",
      "[I 230319 23:21:56 IODA_MS2Planner_workflow:179] ======\n",
      "[I 230319 23:21:56 IODA_MS2Planner_workflow:182] User-defined parameters\n",
      "[I 230319 23:21:56 IODA_MS2Planner_workflow:184]     Ratio between sample/blank for ion filtering = 3\n",
      "[I 230319 23:21:56 IODA_MS2Planner_workflow:186]     Minimum intensity for ion filtering in sample = 1.00e+05\n",
      "[I 230319 23:21:56 IODA_MS2Planner_workflow:187]     Retention time window (min.) for binning target ions = 0.2\n",
      "[I 230319 23:21:56 IODA_MS2Planner_workflow:188]     Isolation window (m/z) = 1\n",
      "[I 230319 23:21:56 IODA_MS2Planner_workflow:189]     Retention time margin (sec.) = 0.02\n",
      "[I 230319 23:21:56 IODA_MS2Planner_workflow:191]     Number of iterative experiment(s) = 15\n",
      "[I 230319 23:21:56 IODA_MS2Planner_workflow:192] User-defined parameters for the output\n",
      "[I 230319 23:21:56 IODA_MS2Planner_workflow:193]     Retention time margin for target ion list (sec. = 0.12)\n",
      "[I 230319 23:21:56 IODA_MS2Planner_workflow:194] ======\n",
      "[I 230319 23:21:56 IODA_MS2Planner_workflow:206] Running MS2Planner in Baseline mode ...\n",
      "[I 230319 23:21:56 IODA_MS2Planner_workflow:754] Command: python3 MS2Planner/path_finder.py baseline results_targeted_MS2Planner_baseline/Euphorbia_rogers_latex_Blank_MS1_2uL_to_Euphorbia_rogers_latex_latex_MS1_2uL_mrgd_filtered.csv results_targeted_MS2Planner_baseline/Euphorbia_rogers_latex_Blank_MS1_2uL_to_Euphorbia_rogers_latex_latex_MS1_2uL_mrgd_filtered_MS2Planner.csv 100000.0 3 15 -win_len 0.2 -isolation 1 -delay 0.02\n"
     ]
    },
    {
     "name": "stdout",
     "output_type": "stream",
     "text": [
      "3080 features dropped with the same RT from an initial number of 6026, with a maximum number of feature with the same RT = 2\n"
     ]
    },
    {
     "name": "stderr",
     "output_type": "stream",
     "text": [
      "[I 230319 23:21:57 IODA_MS2Planner_workflow:222] ======\n",
      "[I 230319 23:21:57 IODA_MS2Planner_workflow:226] 2023-03-19 23:21:57,149 - path_finder - INFO - =============\n",
      "    2023-03-19 23:21:57,149 - path_finder - INFO - Baseline mode begin\n",
      "    2023-03-19 23:21:57,149 - path_finder - INFO - =============\n",
      "    2023-03-19 23:21:57,149 - path_finder - INFO - File Read\n",
      "    2023-03-19 23:21:57,149 - path_finder - INFO - =============\n",
      "    2023-03-19 23:21:57,149 - path_finder - INFO - Begin Finding Path\n",
      "    2023-03-19 23:21:57,149 - path_finder - INFO - =============\n",
      "    2023-03-19 23:21:57,172 - path_finder.baseline - INFO - Total number of features: 2609\n",
      "    2023-03-19 23:21:57,173 - path_finder.baseline - INFO - Maximum number of iterative experiments: 15\n",
      "    2023-03-19 23:21:57,173 - path_finder.baseline - INFO - [1/15 max]: features: 1188, rest: 1421\n",
      "    2023-03-19 23:21:57,173 - path_finder.baseline - INFO - [2/15 max]: features: 848, rest: 573\n",
      "    2023-03-19 23:21:57,173 - path_finder.baseline - INFO - [3/15 max]: features: 357, rest: 216\n",
      "    2023-03-19 23:21:57,173 - path_finder.baseline - INFO - [4/15 max]: features: 216, rest: 0\n",
      "    2023-03-19 23:21:57,173 - path_finder - INFO - Paths Generated\n",
      "    2023-03-19 23:21:57,173 - path_finder - INFO - =============\n",
      "    2023-03-19 23:21:57,173 - path_finder - INFO - Running WriteFile\n",
      "    2023-03-19 23:21:57,182 - path_finder - INFO - File Written\n",
      "    2023-03-19 23:21:57,182 - path_finder - INFO - =============\n",
      "    \n",
      "[I 230319 23:21:57 IODA_MS2Planner_workflow:232] MS2Planner Path output found\n",
      "[I 230319 23:21:57 IODA_MS2Planner_workflow:241] Preparing results ...\n"
     ]
    },
    {
     "name": "stdout",
     "output_type": "stream",
     "text": [
      "results_targeted_MS2Planner_baseline/Euphorbia_rogers_latex_Blank_MS1_2uL_to_Euphorbia_rogers_latex_latex_MS1_2uL_mrgd_filtered_MS2Planner_path_1.csv\n",
      "results_targeted_MS2Planner_baseline/Euphorbia_rogers_latex_Blank_MS1_2uL_to_Euphorbia_rogers_latex_latex_MS1_2uL_mrgd_filtered_MS2Planner_path_2.csv\n",
      "results_targeted_MS2Planner_baseline/Euphorbia_rogers_latex_Blank_MS1_2uL_to_Euphorbia_rogers_latex_latex_MS1_2uL_mrgd_filtered_MS2Planner_path_3.csv\n",
      "results_targeted_MS2Planner_baseline/Euphorbia_rogers_latex_Blank_MS1_2uL_to_Euphorbia_rogers_latex_latex_MS1_2uL_mrgd_filtered_MS2Planner_path_4.csv\n"
     ]
    },
    {
     "name": "stderr",
     "output_type": "stream",
     "text": [
      "[I 230319 23:22:00 IODA_MS2Planner_workflow:271] ======\n",
      "[I 230319 23:22:00 IODA_MS2Planner_workflow:273] Cleaning and zipping workflow results files ...\n",
      "[I 230319 23:22:00 IODA_MS2Planner_workflow:118] All files zipped successfully!\n",
      "[I 230319 23:22:00 IODA_MS2Planner_workflow:301] ======\n",
      "[I 230319 23:22:00 IODA_MS2Planner_workflow:302] END OF THE MS2Planner WORKFLOW\n",
      "[I 230319 23:22:00 IODA_MS2Planner_workflow:303] ======\n"
     ]
    },
    {
     "name": "stdout",
     "output_type": "stream",
     "text": [
      " \n"
     ]
    }
   ],
   "source": [
    "# Run Path Finder with Baseline method \n",
    "#run_path_finder_baseline_from_mzTab(input_mzTab, experiment_number, min_ratio_value, min_intensity_value, win_len, isolation, rt_margin)\n",
    "run_MS2Planner_baseline_from_mzTab(input_mzTab, experiment_number, min_ratio_value,\\\n",
    "                                   min_intensity_value, win_len, isolation, delay, \\\n",
    "                                   rt_margin, max_same_RT)"
   ]
  },
  {
   "attachments": {},
   "cell_type": "markdown",
   "metadata": {},
   "source": [
    "## MS2Planner - Apex mode"
   ]
  },
  {
   "cell_type": "code",
   "execution_count": 6,
   "metadata": {},
   "outputs": [],
   "source": [
    "# MS2Planner - Apex parameters\n",
    "intensity_accumulated = 2e4\n",
    "min_scan = 0.03\n",
    "max_scan = 0.35\n",
    "transient_time = 15\n",
    "max_same_RT = 2\n",
    "\n",
    "# Target ion list parameters \n",
    "rt_margin = 0.1 #sec"
   ]
  },
  {
   "cell_type": "code",
   "execution_count": 7,
   "metadata": {},
   "outputs": [
    {
     "name": "stderr",
     "output_type": "stream",
     "text": [
      "[I 230319 23:22:00 IODA_MS2Planner_workflow:318] STARTING THE MS2Planner WORKFLOW\n",
      "[I 230319 23:22:00 IODA_MS2Planner_workflow:328] the input_filename variable should be a valid path/download link or must be: 'OpenMS_generated', when using the OpenMS workflow online\n",
      "[I 230319 23:22:00 IODA_MS2Planner_workflow:331] 2023-03-19 23:22:00.690690\n",
      "[I 230319 23:22:00 IODA_MS2Planner_workflow:333] ======\n",
      "[I 230319 23:22:00 IODA_MS2Planner_workflow:334] Getting the mzTab\n",
      "[I 230319 23:22:00 IODA_MS2Planner_workflow:350] This is the input file path: tests/Euphorbia/Targeted/ioda_input/Euphorbia_rogers_latex_Blank_MS1_2uL_to_Euphorbia_rogers_latex_latex_MS1_2uL_mrgd.mzTab\n",
      "[I 230319 23:22:00 IODA_MS2Planner_workflow:351] This is the output file path: results_targeted_MS2Planner_apex/Euphorbia_rogers_latex_Blank_MS1_2uL_to_Euphorbia_rogers_latex_latex_MS1_2uL_mrgd.csv\n",
      "[I 230319 23:22:00 IODA_MS2Planner_workflow:355] ======\n",
      "[I 230319 23:22:00 IODA_MS2Planner_workflow:356] Converting mzTab to intermediate table format ...\n",
      "[I 230319 23:22:00 IODA_MS2Planner_workflow:75] - For sample Euphorbia_rogers_latex_Blank_MS1_2uL the sum of feature intensities is = 6.67e+08\n",
      "[I 230319 23:22:00 IODA_MS2Planner_workflow:77] - For sample Euphorbia_rogers_latex_latex_MS1_2uL the sum of feature intensities = 5.75e+10\n",
      "[I 230319 23:22:00 IODA_MS2Planner_workflow:358] ======\n",
      "[I 230319 23:22:00 IODA_MS2Planner_workflow:363] Assumed sample filename: Euphorbia_rogers_latex_latex_MS1_2uL\n",
      "[I 230319 23:22:00 IODA_MS2Planner_workflow:365] Assumed blank filename: Euphorbia_rogers_latex_Blank_MS1_2uL\n",
      "[I 230319 23:22:00 IODA_MS2Planner_workflow:366] ======\n",
      "[I 230319 23:22:00 IODA_MS2Planner_workflow:369] User-defined parameters\n",
      "[I 230319 23:22:00 IODA_MS2Planner_workflow:371]     Ratio between sample/blank for ion filtering = 3\n",
      "[I 230319 23:22:00 IODA_MS2Planner_workflow:373]     Minimum intensity for ion filtering in sample = 1.00e+05\n",
      "[I 230319 23:22:00 IODA_MS2Planner_workflow:374]     Precursor ion intensity to accumulate in the MS2 scan = 2.00e+04\n",
      "[I 230319 23:22:00 IODA_MS2Planner_workflow:375]     Isolation window (m/z) = 1\n",
      "[I 230319 23:22:00 IODA_MS2Planner_workflow:376]     Delay between targeted MS2 scans (sec.)= 0.02\n",
      "[I 230319 23:22:00 IODA_MS2Planner_workflow:377]     Minimum MS2 scan duty cycle (sec.)= 0.03\n",
      "[I 230319 23:22:00 IODA_MS2Planner_workflow:378]     Maximum MS2 scan duty cycle (sec.)= 0.35\n",
      "[I 230319 23:22:00 IODA_MS2Planner_workflow:380]     Number of iterative experiment(s) = 15\n",
      "[I 230319 23:22:00 IODA_MS2Planner_workflow:381] User-defined parameters for the output\n",
      "[I 230319 23:22:00 IODA_MS2Planner_workflow:382]     Retention time margin for target ion list (sec. = 0.1\n",
      "[I 230319 23:22:00 IODA_MS2Planner_workflow:383]     Orbitrap transient + overhead time for MaxQuant.Live (msec.) = 15\n",
      "[I 230319 23:22:00 IODA_MS2Planner_workflow:384] ======\n",
      "[I 230319 23:22:00 IODA_MS2Planner_workflow:396] Running MS2Planner in Apex mode ...\n",
      "[I 230319 23:22:00 IODA_MS2Planner_workflow:759] Command: python3 MS2Planner/path_finder.py apex results_targeted_MS2Planner_apex/Euphorbia_rogers_latex_Blank_MS1_2uL_to_Euphorbia_rogers_latex_latex_MS1_2uL_mrgd_filtered.csv results_targeted_MS2Planner_apex/Euphorbia_rogers_latex_Blank_MS1_2uL_to_Euphorbia_rogers_latex_latex_MS1_2uL_mrgd_filtered_MS2Planner.csv 100000.0 3 15 -intensity_accu 20000.0 -isolation 1 -delay 0.02 -min_scan 0.03 -max_scan 0.35\n"
     ]
    },
    {
     "name": "stdout",
     "output_type": "stream",
     "text": [
      "3080 features dropped with the same RT from an initial number of 6026, with a maximum number of feature with the same RT = 2\n"
     ]
    },
    {
     "name": "stderr",
     "output_type": "stream",
     "text": [
      "[I 230319 23:22:01 IODA_MS2Planner_workflow:413] ======\n",
      "[I 230319 23:22:01 IODA_MS2Planner_workflow:417] 2023-03-19 23:22:01,106 - path_finder - INFO - =============\n",
      "    2023-03-19 23:22:01,106 - path_finder - INFO - Apex mode begin\n",
      "    2023-03-19 23:22:01,106 - path_finder - INFO - =============\n",
      "    2023-03-19 23:22:01,106 - path_finder - INFO - File Read\n",
      "    2023-03-19 23:22:01,106 - path_finder - INFO - =============\n",
      "    2023-03-19 23:22:01,106 - path_finder - INFO - Begin Finding Path\n",
      "    2023-03-19 23:22:01,106 - path_finder - INFO - =============\n",
      "    2023-03-19 23:22:01,135 - path_finder.apex - INFO - [1/15 max]: features: 1154, rest: 2609\n",
      "    2023-03-19 23:22:01,143 - path_finder.apex - INFO - [2/15 max]: features: 784, rest: 1455\n",
      "    2023-03-19 23:22:01,147 - path_finder.apex - INFO - [3/15 max]: features: 370, rest: 671\n",
      "    2023-03-19 23:22:01,149 - path_finder.apex - INFO - [4/15 max]: features: 198, rest: 301\n",
      "    2023-03-19 23:22:01,150 - path_finder.apex - INFO - [5/15 max]: features: 81, rest: 103\n",
      "    2023-03-19 23:22:01,150 - path_finder.apex - INFO - [6/15 max]: features: 22, rest: 22\n",
      "    2023-03-19 23:22:01,150 - path_finder - INFO - Paths Generated\n",
      "    2023-03-19 23:22:01,150 - path_finder - INFO - =============\n",
      "    2023-03-19 23:22:01,161 - path_finder - INFO - File Written\n",
      "    2023-03-19 23:22:01,161 - path_finder - INFO - =============\n",
      "    \n",
      "[I 230319 23:22:01 IODA_MS2Planner_workflow:419] ======\n",
      "[I 230319 23:22:01 IODA_MS2Planner_workflow:424] MS2Planner output found\n",
      "[I 230319 23:22:01 IODA_MS2Planner_workflow:433] Preparing results ...\n",
      "[I 230319 23:22:01 IODA_MS2Planner_workflow:449] ======\n"
     ]
    },
    {
     "name": "stdout",
     "output_type": "stream",
     "text": [
      "results_targeted_MS2Planner_apex/Euphorbia_rogers_latex_Blank_MS1_2uL_to_Euphorbia_rogers_latex_latex_MS1_2uL_mrgd_filtered_MS2Planner_apex_path_1.csv\n",
      "results_targeted_MS2Planner_apex/Euphorbia_rogers_latex_Blank_MS1_2uL_to_Euphorbia_rogers_latex_latex_MS1_2uL_mrgd_filtered_MS2Planner_apex_path_2.csv\n",
      "results_targeted_MS2Planner_apex/Euphorbia_rogers_latex_Blank_MS1_2uL_to_Euphorbia_rogers_latex_latex_MS1_2uL_mrgd_filtered_MS2Planner_apex_path_3.csv\n",
      "results_targeted_MS2Planner_apex/Euphorbia_rogers_latex_Blank_MS1_2uL_to_Euphorbia_rogers_latex_latex_MS1_2uL_mrgd_filtered_MS2Planner_apex_path_4.csv\n",
      "results_targeted_MS2Planner_apex/Euphorbia_rogers_latex_Blank_MS1_2uL_to_Euphorbia_rogers_latex_latex_MS1_2uL_mrgd_filtered_MS2Planner_apex_path_5.csv\n",
      "results_targeted_MS2Planner_apex/Euphorbia_rogers_latex_Blank_MS1_2uL_to_Euphorbia_rogers_latex_latex_MS1_2uL_mrgd_filtered_MS2Planner_apex_path_6.csv\n"
     ]
    },
    {
     "name": "stderr",
     "output_type": "stream",
     "text": [
      "[I 230319 23:22:05 IODA_MS2Planner_workflow:462] Cleaning and zipping workflow results files ...\n",
      "[I 230319 23:22:06 IODA_MS2Planner_workflow:118] All files zipped successfully!\n",
      "[I 230319 23:22:06 IODA_MS2Planner_workflow:490] ======\n",
      "[I 230319 23:22:06 IODA_MS2Planner_workflow:491] END OF THE MS2Planner WORKFLOW - Apex mode\n",
      "[I 230319 23:22:06 IODA_MS2Planner_workflow:492] ======\n"
     ]
    },
    {
     "name": "stdout",
     "output_type": "stream",
     "text": [
      " \n"
     ]
    }
   ],
   "source": [
    "# Run Path Finder with Apex method   \n",
    "run_MS2Planner_apex_from_mzTab(input_mzTab, experiment_number, min_ratio_value, \n",
    "                               min_intensity_value, intensity_accumulated, isolation, \n",
    "                               delay, min_scan, max_scan,\n",
    "                               rt_margin, transient_time, max_same_RT)\n"
   ]
  },
  {
   "attachments": {},
   "cell_type": "markdown",
   "metadata": {},
   "source": [
    "Adapt Curve mode. It should be okay"
   ]
  },
  {
   "cell_type": "markdown",
   "metadata": {},
   "source": [
    "## Curve mode"
   ]
  },
  {
   "cell_type": "code",
   "execution_count": 8,
   "metadata": {},
   "outputs": [],
   "source": [
    "#print(input_SAMPLE)\n",
    "#Path_Finder_Curve_OpenMS(input_SAMPLE,ppm_error,noise_level)"
   ]
  },
  {
   "cell_type": "code",
   "execution_count": 9,
   "metadata": {},
   "outputs": [],
   "source": [
    "# Curve parameters\n",
    "#input_filename_curve = 'test/Euphorbia/MS2Planner_curve_file/Euphorbia_rogers_latex_latex_MS1_2uL.mzTab'"
   ]
  },
  {
   "cell_type": "code",
   "execution_count": 10,
   "metadata": {},
   "outputs": [],
   "source": [
    "input_filename_curve = \"tests/Euphorbia/Targeted/toppas_input/Euphorbia_rogers_latex_latex_MS1_2uL.mzML\"\n",
    "\n",
    "#CURVE\n",
    "rt_tolerance_curve = 3 \n",
    "mz_tolerance_curve = 2\n",
    "restriction = 2\n",
    "cluster = 'kNN'\n",
    "\n",
    "#!python3 MS2Planner/path_finder.py curve results_targeted_MS2Planner_curve/mrgd.csv \n",
    "#results_targeted_MS2Planner_curve/Euphorbia_rogers_Planner.csv\n",
    "#0 3 3 -infile_raw Euphorbia_rogers_latex_latex_MS1_2uL.mzML \n",
    "#-intensity_accu 1000000.0 -restriction 2 0.02 -isolation 1.5 -delay 0.02 -min_scan 0.1 -max_scan 0.5 -cluster kNN\n"
   ]
  },
  {
   "cell_type": "code",
   "execution_count": 11,
   "metadata": {},
   "outputs": [
    {
     "name": "stderr",
     "output_type": "stream",
     "text": [
      "[I 230319 23:22:11 IODA_MS2Planner_workflow:507] STARTING THE MS2Planner WORKFLOW\n",
      "[I 230319 23:22:11 IODA_MS2Planner_workflow:517] the input_filename variable should be a valid path/download link or must be: 'OpenMS_generated', when using the OpenMS workflow online\n",
      "[I 230319 23:22:11 IODA_MS2Planner_workflow:520] 2023-03-19 23:22:11.946494\n",
      "[I 230319 23:22:11 IODA_MS2Planner_workflow:522] ======\n",
      "[I 230319 23:22:11 IODA_MS2Planner_workflow:523] Getting the mzTab\n",
      "[I 230319 23:22:11 IODA_MS2Planner_workflow:539] This is the input file path: tests/Euphorbia/Targeted/ioda_input/Euphorbia_rogers_latex_Blank_MS1_2uL_to_Euphorbia_rogers_latex_latex_MS1_2uL_mrgd.mzTab\n",
      "[I 230319 23:22:11 IODA_MS2Planner_workflow:540] This is the output file path: results_targeted_MS2Planner_curve/Euphorbia_rogers_latex_Blank_MS1_2uL_to_Euphorbia_rogers_latex_latex_MS1_2uL_mrgd.csv\n",
      "[I 230319 23:22:11 IODA_MS2Planner_workflow:555] mzTab for the Curve mode found from the user specified path\n",
      "[I 230319 23:22:11 IODA_MS2Planner_workflow:567] ======\n",
      "[I 230319 23:22:11 IODA_MS2Planner_workflow:568] Converting mzTab to intermediate table format ...\n",
      "[I 230319 23:22:11 IODA_MS2Planner_workflow:75] - For sample Euphorbia_rogers_latex_Blank_MS1_2uL the sum of feature intensities is = 6.67e+08\n",
      "[I 230319 23:22:11 IODA_MS2Planner_workflow:77] - For sample Euphorbia_rogers_latex_latex_MS1_2uL the sum of feature intensities = 5.75e+10\n",
      "[I 230319 23:22:11 IODA_MS2Planner_workflow:570] ======\n",
      "[I 230319 23:22:11 IODA_MS2Planner_workflow:575] Assumed sample filename: Euphorbia_rogers_latex_latex_MS1_2uL\n",
      "[I 230319 23:22:11 IODA_MS2Planner_workflow:577] Assumed blank filename: Euphorbia_rogers_latex_Blank_MS1_2uL\n",
      "[I 230319 23:22:11 IODA_MS2Planner_workflow:578] Sample for the Curve mode: tests/Euphorbia/Targeted/toppas_input/Euphorbia_rogers_latex_latex_MS1_2uL.mzML\n",
      "[I 230319 23:22:11 IODA_MS2Planner_workflow:579] ======\n",
      "[I 230319 23:22:11 IODA_MS2Planner_workflow:583] User-defined parameters for MS2Planner\n",
      "[I 230319 23:22:11 IODA_MS2Planner_workflow:585]     Ratio between sample/blank for ion filtering = 3\n",
      "[I 230319 23:22:11 IODA_MS2Planner_workflow:587]     Minimum intensity for ion filtering in sample = 1.00e+05\n",
      "[I 230319 23:22:11 IODA_MS2Planner_workflow:588]     Precursor ion intensity to accumulate in the MS2 scan = 2.00e+04\n",
      "[I 230319 23:22:11 IODA_MS2Planner_workflow:589]     Input file for curve data : tests/Euphorbia/Targeted/toppas_input/Euphorbia_rogers_latex_latex_MS1_2uL.mzML\n",
      "[I 230319 23:22:11 IODA_MS2Planner_workflow:590]     Restriction parameter : 3\n",
      "[I 230319 23:22:11 IODA_MS2Planner_workflow:591]     Mass accuracy (m/z): 2\n",
      "[I 230319 23:22:11 IODA_MS2Planner_workflow:592]     Isolation window (m/z) = 1\n",
      "[I 230319 23:22:11 IODA_MS2Planner_workflow:593]     Delay between targeted MS2 scans (sec.)= 0.02\n",
      "[I 230319 23:22:11 IODA_MS2Planner_workflow:594]     Minimum MS2 scan duty cycle (sec.)= 0.03\n",
      "[I 230319 23:22:11 IODA_MS2Planner_workflow:595]     Maximum MS2 scan duty cycle (sec.)= 0.35\n",
      "[I 230319 23:22:11 IODA_MS2Planner_workflow:597]     Number of iterative experiment(s) = 15\n",
      "[I 230319 23:22:11 IODA_MS2Planner_workflow:598]     Mode for the curve mode: kNN\n",
      "[I 230319 23:22:11 IODA_MS2Planner_workflow:599] User-defined parameters for the output\n",
      "[I 230319 23:22:11 IODA_MS2Planner_workflow:600]     Retention time margin for target ion list (sec.) = 0.1\n",
      "[I 230319 23:22:11 IODA_MS2Planner_workflow:601]     Orbitrap transient + overhead time for MaxQuant.Live (msec.) = 15\n",
      "[I 230319 23:22:11 IODA_MS2Planner_workflow:602] ======\n",
      "[I 230319 23:22:12 IODA_MS2Planner_workflow:614] Running MS2Planner in Curve mode ...\n",
      "[I 230319 23:22:12 IODA_MS2Planner_workflow:764] Command: python3 MS2Planner/path_finder.py curve results_targeted_MS2Planner_curve/Euphorbia_rogers_latex_Blank_MS1_2uL_to_Euphorbia_rogers_latex_latex_MS1_2uL_mrgd_filtered.csv results_targeted_MS2Planner_curve/Euphorbia_rogers_latex_Blank_MS1_2uL_to_Euphorbia_rogers_latex_latex_MS1_2uL_mrgd_filtered_MS2Planner.csv 100000.0 3 15 -infile_raw tests/Euphorbia/Targeted/toppas_input/Euphorbia_rogers_latex_latex_MS1_2uL.mzML -intensity_accu 20000.0 -restriction 3 2 -isolation 1 -delay 0.02 -min_scan 0.03 -max_scan 0.35 -cluster kNN\n",
      "[I 230319 23:22:12 IODA_MS2Planner_workflow:765] MS2Planner in Curve mode can take up to 10 minutes to complete ... please wait\n",
      "[I 230319 23:22:12 IODA_MS2Planner_workflow:766] Output of MS2Planner: results_targeted_MS2Planner_curve/Euphorbia_rogers_latex_Blank_MS1_2uL_to_Euphorbia_rogers_latex_latex_MS1_2uL_mrgd_filtered_MS2Planner.csv\n"
     ]
    },
    {
     "name": "stdout",
     "output_type": "stream",
     "text": [
      "3080 features dropped with the same RT from an initial number of 6026, with a maximum number of feature with the same RT = 2\n"
     ]
    },
    {
     "name": "stderr",
     "output_type": "stream",
     "text": [
      "[I 230319 23:22:37 IODA_MS2Planner_workflow:633] ======\n",
      "[I 230319 23:22:37 IODA_MS2Planner_workflow:637] 2023-03-19 23:22:12,371 - path_finder - INFO - =============\n",
      "    2023-03-19 23:22:12,371 - path_finder - INFO - Curve mode begin\n",
      "    2023-03-19 23:22:12,371 - path_finder - INFO - restriction: (3.0000, 2.0000)\n",
      "    2023-03-19 23:22:15,853 - path_finder.curve - INFO - =============\n",
      "    2023-03-19 23:22:15,853 - path_finder.curve - INFO - File Read\n",
      "    2023-03-19 23:22:15,853 - path_finder.curve - INFO - =============\n",
      "    2023-03-19 23:22:36,771 - path_finder.curve - INFO - Begin Finding Path\n",
      "    2023-03-19 23:22:36,771 - path_finder.curve - INFO - =============\n",
      "    2023-03-19 23:22:37,265 - path_finder.curve - ERROR - error in creating nodes and clusters\n",
      "    Traceback (most recent call last):\n",
      "      File \"/Users/nothiasl/git/IODA_MassSpec/MS2Planner/path_curve.py\", line 790, in PathGen\n",
      "        clusters, num_node, node_cluster = ClusterCreate(\n",
      "      File \"/Users/nothiasl/git/IODA_MassSpec/MS2Planner/path_curve.py\", line 402, in ClusterCreate\n",
      "        clusters[i.cluster - 1] = Cluster(i, i.cluster)\n",
      "    NameError: name 'Cluster' is not defined\n",
      "    \n",
      "cp: results_targeted_MS2Planner_curve/log/path_finder_curve.log: No such file or directory\n",
      "[I 230319 23:22:37 IODA_MS2Planner_workflow:649] Problem when running MS2Planner !!!\n",
      "[I 230319 23:22:37 IODA_MS2Planner_workflow:653] ======\n",
      "[I 230319 23:22:37 IODA_MS2Planner_workflow:654] Preparing results ...\n",
      "[I 230319 23:22:37 IODA_MS2Planner_workflow:670] ======\n"
     ]
    },
    {
     "name": "stdout",
     "output_type": "stream",
     "text": [
      "<---------- !!!!!!!!!!!!!!!!!! ---------->\n",
      "Problem when running MS2Planner !!!\n",
      "<---------- !!!!!!!!!!!!!!!!!! ---------->\n"
     ]
    },
    {
     "ename": "UnboundLocalError",
     "evalue": "local variable 'table_path' referenced before assignment",
     "output_type": "error",
     "traceback": [
      "\u001b[0;31m---------------------------------------------------------------------------\u001b[0m",
      "\u001b[0;31mUnboundLocalError\u001b[0m                         Traceback (most recent call last)",
      "Cell \u001b[0;32mIn[11], line 2\u001b[0m\n\u001b[1;32m      1\u001b[0m \u001b[39m# Run Path Finder with Curve method\u001b[39;00m\n\u001b[0;32m----> 2\u001b[0m run_MS2Planner_curve_from_mzTab(input_mzTab, experiment_number, min_ratio_value, \n\u001b[1;32m      3\u001b[0m                                  min_intensity_value, input_filename_curve, intensity_accumulated, \n\u001b[1;32m      4\u001b[0m                                  rt_tolerance_curve, mz_tolerance_curve, isolation, delay, \n\u001b[1;32m      5\u001b[0m                                  min_scan, max_scan, cluster, rt_margin, transient_time, max_same_RT)\n\u001b[1;32m      7\u001b[0m \u001b[39m#def run_MS2Planner_curve_from_mzTab(input_filename:int, num_path:int, intensity_ratio:float,\u001b[39;00m\n\u001b[1;32m      8\u001b[0m \u001b[39m#                                    intensity_threshold:float, input_filename_curve:int, intensity_accu:float, \u001b[39;00m\n\u001b[1;32m      9\u001b[0m \u001b[39m#                                    rt_tolerance_curve:float, mz_tolerance_curve:float, isolation:float,\u001b[39;00m\n\u001b[1;32m     10\u001b[0m \u001b[39m#                                    delay:float, min_scan:float, max_scan:float, cluster:str, \u001b[39;00m\n\u001b[1;32m     11\u001b[0m \u001b[39m#                                    rt_margin:float, transient_time:float):\u001b[39;00m\n",
      "File \u001b[0;32m~/git/IODA_MassSpec/IODA_MS2Planner_workflow.py:677\u001b[0m, in \u001b[0;36mrun_MS2Planner_curve_from_mzTab\u001b[0;34m(input_filename, num_path, intensity_ratio, intensity_threshold, input_filename_curve, intensity_accu, rt_tolerance_curve, mz_tolerance_curve, isolation, delay, min_scan, max_scan, cluster, rt_margin, transient_time, max_same_RT)\u001b[0m\n\u001b[1;32m    673\u001b[0m     table_list_MS2Planner\u001b[39m.\u001b[39mappend(output_filename[:\u001b[39m-\u001b[39m\u001b[39m4\u001b[39m]\u001b[39m+\u001b[39m\u001b[39m'\u001b[39m\u001b[39m_filtered_MS2Planner_curve_path_\u001b[39m\u001b[39m'\u001b[39m\u001b[39m+\u001b[39m\u001b[39mstr\u001b[39m(x\u001b[39m+\u001b[39m\u001b[39m1\u001b[39m)\u001b[39m+\u001b[39m\u001b[39m'\u001b[39m\u001b[39m.csv\u001b[39m\u001b[39m'\u001b[39m)\n\u001b[1;32m    675\u001b[0m \u001b[39mtry\u001b[39;00m:\n\u001b[1;32m    676\u001b[0m     \u001b[39m#print(table_list_MS2Planner)\u001b[39;00m\n\u001b[0;32m--> 677\u001b[0m     make_plot_MS2Planner_RT_mz(table_list_MS2Planner, directory)\n\u001b[1;32m    678\u001b[0m     make_plot_MS2Planner_mz_int(table_list_MS2Planner, directory)\n\u001b[1;32m    679\u001b[0m     make_plot_MS2Planner_RT_int(table_list_MS2Planner, directory)\n",
      "File \u001b[0;32m~/git/IODA_MassSpec/IODA_MS2Planner_workflow.py:802\u001b[0m, in \u001b[0;36mmake_plot_MS2Planner_RT_mz\u001b[0;34m(table_list_MS2Planner, output_dir)\u001b[0m\n\u001b[1;32m    799\u001b[0m     plt\u001b[39m.\u001b[39mtitle(\u001b[39m'\u001b[39m\u001b[39mDistribution of MS2Planner targets. Node size shows intensity with a scale factor of \u001b[39m\u001b[39m'\u001b[39m\u001b[39m+\u001b[39m\u001b[39mstr\u001b[39m(scaling_factor), fontsize\u001b[39m=\u001b[39m\u001b[39m8\u001b[39m)\n\u001b[1;32m    800\u001b[0m     plt\u001b[39m.\u001b[39msavefig(table_path[:\u001b[39m-\u001b[39m\u001b[39m4\u001b[39m]\u001b[39m+\u001b[39m\u001b[39m'\u001b[39m\u001b[39m_plot_mz_rt.png\u001b[39m\u001b[39m'\u001b[39m, dpi\u001b[39m=\u001b[39m\u001b[39m300\u001b[39m)\n\u001b[0;32m--> 802\u001b[0m plt\u001b[39m.\u001b[39msavefig(table_path[:\u001b[39m-\u001b[39m\u001b[39m4\u001b[39m]\u001b[39m+\u001b[39m\u001b[39m'\u001b[39m\u001b[39m_ALL_plot_mz_rt.png\u001b[39m\u001b[39m'\u001b[39m, dpi\u001b[39m=\u001b[39m\u001b[39m300\u001b[39m)\n\u001b[1;32m    803\u001b[0m plt\u001b[39m.\u001b[39mclose()\n",
      "\u001b[0;31mUnboundLocalError\u001b[0m: local variable 'table_path' referenced before assignment"
     ]
    }
   ],
   "source": [
    "# Run Path Finder with Curve method\n",
    "run_MS2Planner_curve_from_mzTab(input_mzTab, experiment_number, min_ratio_value, \n",
    "                                 min_intensity_value, input_filename_curve, intensity_accumulated, \n",
    "                                 rt_tolerance_curve, mz_tolerance_curve, isolation, delay, \n",
    "                                 min_scan, max_scan, cluster, rt_margin, transient_time, max_same_RT)\n",
    "\n",
    "#def run_MS2Planner_curve_from_mzTab(input_filename:int, num_path:int, intensity_ratio:float,\n",
    "#                                    intensity_threshold:float, input_filename_curve:int, intensity_accu:float, \n",
    "#                                    rt_tolerance_curve:float, mz_tolerance_curve:float, isolation:float,\n",
    "#                                    delay:float, min_scan:float, max_scan:float, cluster:str, \n",
    "#                                    rt_margin:float, transient_time:float):\n"
   ]
  },
  {
   "cell_type": "code",
   "execution_count": 15,
   "metadata": {},
   "outputs": [
    {
     "name": "stdout",
     "output_type": "stream",
     "text": [
      "=============\n",
      "Curve mode begin\n",
      "Killed\n"
     ]
    }
   ],
   "source": [
    "!python3 path_finder.py curve results_targeted_pathfinder_curve/SA113_Media_SPE_MeOH_MS1_to_SA113_SPE_MeOH_MS1_mrgd.csv results_targeted_pathfinder_curve/SA113_Media_SPE_MeOH_MS1_to_SA113_SPE_MeOH_MS1_mrgd_PathFinder.csv 300000.0 3 5 -infile_raw tests/BP_mzTab/test_SA113_SPE_MeOH_MS1.mzTab -intensity_accu 300000.0 -restriction 2 0.02 -delta 0.1"
   ]
  },
  {
   "cell_type": "code",
   "execution_count": null,
   "metadata": {},
   "outputs": [],
   "source": []
  },
  {
   "cell_type": "code",
   "execution_count": null,
   "metadata": {},
   "outputs": [],
   "source": []
  },
  {
   "cell_type": "code",
   "execution_count": null,
   "metadata": {},
   "outputs": [],
   "source": []
  },
  {
   "cell_type": "code",
   "execution_count": null,
   "metadata": {},
   "outputs": [],
   "source": []
  },
  {
   "cell_type": "code",
   "execution_count": null,
   "metadata": {},
   "outputs": [],
   "source": []
  },
  {
   "cell_type": "code",
   "execution_count": null,
   "metadata": {},
   "outputs": [],
   "source": []
  },
  {
   "cell_type": "code",
   "execution_count": null,
   "metadata": {},
   "outputs": [],
   "source": []
  },
  {
   "cell_type": "code",
   "execution_count": null,
   "metadata": {},
   "outputs": [],
   "source": []
  },
  {
   "cell_type": "code",
   "execution_count": null,
   "metadata": {},
   "outputs": [],
   "source": []
  },
  {
   "cell_type": "code",
   "execution_count": null,
   "metadata": {},
   "outputs": [],
   "source": []
  },
  {
   "cell_type": "code",
   "execution_count": null,
   "metadata": {},
   "outputs": [],
   "source": []
  },
  {
   "cell_type": "code",
   "execution_count": null,
   "metadata": {},
   "outputs": [],
   "source": []
  },
  {
   "cell_type": "code",
   "execution_count": null,
   "metadata": {},
   "outputs": [],
   "source": []
  },
  {
   "cell_type": "markdown",
   "metadata": {},
   "source": [
    "### Step 0 - Generate an mzTab file\n",
    "\n",
    "The mzTab file must contain results from feature detection and alignment for the two samples: the \"reference\" sample and the \"blank' sample. Please refer to the [documentation page](link) for more information.\n",
    "\n",
    "### Step 1 - Upload the mzTab file\n",
    "\n",
    "##### <span style=\"color:brown\">Method 1 - Upload your mzTab file </span>\n",
    "\n",
    "Upload your mzML files on the Binder server with the Jupyter lab interface (drag-and-drop the file in the left panel or use the \"Upload\" icon). \n",
    "\n",
    "##### <span style=\"color:brown\">Method 2 - Web-sharing links</span>\n",
    "We support retrieving the files from the following cloud sharing services:\n",
    "> **Google Drive** : copy the sharing the link (make sure the sharing setting is set to 'Anyone with the link can download').\n",
    "\n",
    "> **MassIVE/GNPS repository** : copy the link for the file.\n",
    "\n",
    "\n",
    "### Step 3 - Specify the link or path to the mzTab file\n",
    "\n",
    "In the cell below, indicate the filename for the mzTab file. The filename must be into parenthesis,  such as: *\"myfile.mzTab\"*. If applicable change the path, such *\"input_folder/myfile.mzTab\"*."
   ]
  },
  {
   "cell_type": "code",
   "execution_count": null,
   "metadata": {},
   "outputs": [],
   "source": [
    "input_mzTab = 'https://drive.google.com/file/d/1NGVzhrw-xZ4nMJserIQ7v4tYgcmraZ6g/view?usp=sharing'"
   ]
  },
  {
   "cell_type": "markdown",
   "metadata": {},
   "source": [
    "### Step 4 - Specify the parameters of the IODA-targeted workflow\n",
    "Specify the parameter values for IODA-targeted workflow in the cell below:\n",
    "\n",
    "*min_ratio_value*: minimum ratio for the intensity of an ion/feature (peak height) between the reference and blank samples (reference/blank). Only ions above that ratio will be valid ion targets. (Default = 5).\n",
    "\n",
    "*min_intensity_value*: the minimum intensity (peak height) of an ion/feature in the reference sample to be considered as valid ion targets. (Default = 1E5).\n",
    "\n",
    "*experiment_number*: define the number of iterative experiment(s) to perform for the IODA-targeted workflow. If >2, the valid target ions will be splitted into (multiple) experiments (Default = 3, range 1-10)\n"
   ]
  },
  {
   "cell_type": "code",
   "execution_count": null,
   "metadata": {},
   "outputs": [],
   "source": [
    "min_ratio_value = 5\n",
    "min_intensity_value = 1E5\n",
    "experiment_number = 3"
   ]
  },
  {
   "cell_type": "markdown",
   "metadata": {},
   "source": [
    "### Step 5 - Run the IODA-targeted workflow\n",
    "\n",
    "Simply run the cell below to start the IODA-targeted workflow"
   ]
  },
  {
   "cell_type": "code",
   "execution_count": null,
   "metadata": {},
   "outputs": [],
   "source": [
    "from IODA_targeted_workflow import *\n",
    "make_targeted_list_from_mzTab(input_mzTab, experiment_number, min_ratio_value, min_intensity_value)"
   ]
  },
  {
   "cell_type": "markdown",
   "metadata": {},
   "source": [
    "### Step 6 - Examine the results\n",
    "\n",
    "**Visualise** : Run the cell below to show the scatter plot for the IODA-targeted workflow results. Valid targets in the reference sample are represented into experiment(s). The ion/features from the blank sample are also shown. Verify that the OpenMS parameter variables and IODA-targeted workflows are adapted to level you want to apply, and your sample(s) complexity.\n",
    "\n",
    "- Examine the IODA-targeted worflow log and the plots in order to verify that the 'min_intensity' parameter is adapted to exclusion level you want to apply, and your sample(s) complexity.\n",
    "- Note that, at this stage, it cannot be evaluated if ion detection was done optimally. This should be examinated during the generation of the mzTab file (such as with TOPPAS/OpenMS)."
   ]
  },
  {
   "cell_type": "code",
   "execution_count": null,
   "metadata": {},
   "outputs": [],
   "source": [
    "from IPython.display import Image\n",
    "Image(\"results_targeted/intermediate_files/experiment_blank_shared_TARGETED_RATIO_scatter_view.png\")\n",
    "Image(\"results_targeted/intermediate_files/experiment_blank_shared_TARGETED_INTENSITY_scatter_view.png\")"
   ]
  },
  {
   "cell_type": "markdown",
   "metadata": {},
   "source": [
    "### Step 7 - Download the results\n",
    "\n",
    "Download the IODA-targeted workflow results ->\n",
    "[download-results/IODA_targeted_results.zip](download-results/IODA_targeted_results.zip?download=1).\n",
    "\n",
    "### Step 8 - Prepare your IODA experiment\n",
    "Prepare the iterative mass spectrometry acquisition. For instructions on how to load and configure an exclusion list with XCalibur or MaxQuant.Live please refer to [the following documentation](nothing)."
   ]
  },
  {
   "cell_type": "code",
   "execution_count": null,
   "metadata": {},
   "outputs": [],
   "source": []
  }
 ],
 "metadata": {
  "kernelspec": {
   "display_name": "Python 3 (ipykernel)",
   "language": "python",
   "name": "python3"
  },
  "language_info": {
   "codemirror_mode": {
    "name": "ipython",
    "version": 3
   },
   "file_extension": ".py",
   "mimetype": "text/x-python",
   "name": "python",
   "nbconvert_exporter": "python",
   "pygments_lexer": "ipython3",
   "version": "3.10.9"
  }
 },
 "nbformat": 4,
 "nbformat_minor": 4
}
