{
 "cells": [
  {
   "cell_type": "markdown",
   "metadata": {},
   "source": [
    "# <span style=\"color:red\"> Targeted-from-mzTab notebook for IODA </span>\n",
    "\n",
    "**Purpose**: The IODA targeted-from-mzTab workflow takes allows to generate list of target ions for iterative optimise data acquisition (IODA) of fragmentation spectra in LC-MS. It accepts as input an mzTab file with results for two samples: the \"reference\" sample and the \"blank\" sample. The targets are detected in the \"reference\" sample, and background ions are detected in the \"blank\" sample. Background ions are excluded from the targets. The targets can be acquired by IODA in one or multiple experiments for higher coverage.\n",
    "\n",
    "\n",
    "**Usage**: This notebook requires the user to provide an mzTab. If you need to process your LC-MS data, you can use our [IODA targeted-from-mzML notebook](IODA_targeted_from_mzML.ipynb), or refer to our documentation for more informations. The IODA targeted workflow defines the target ions, and these targets are then formatted for XCalibur or [MaxQuant.Live]\n",
    "\n",
    "**Documentation**: Please refer to the documentation page [See here](link).\n",
    "\n",
    "**Instructions**: Follow the instructions below and run the notebook cells accordingly."
   ]
  },
  {
   "cell_type": "code",
   "execution_count": 1,
   "metadata": {},
   "outputs": [],
   "source": []
  },
  {
   "cell_type": "code",
   "execution_count": 1,
   "metadata": {},
   "outputs": [],
   "source": [
    "# Blank sample\n",
    "input_BLANK = \"path_to_blank_sample_mzML\"\n",
    "# Reference sample\n",
    "input_SAMPLE = \"path_to_reference_mzML\"\n",
    "\n",
    "input_BLANK = \"tests/Euphorbia/Targeted/toppas_input/Euphorbia_rogers_latex_Blank_MS1_2uL.mzML\"\n",
    "input_SAMPLE = \"tests/Euphorbia/Targeted/toppas_input/Euphorbia_rogers_latex_latex_MS1_2uL.mzML\""
   ]
  },
  {
   "cell_type": "code",
   "execution_count": 2,
   "metadata": {},
   "outputs": [],
   "source": [
    "ppm_error = 10\n",
    "noise_level = 3E4"
   ]
  },
  {
   "cell_type": "code",
   "execution_count": 3,
   "metadata": {},
   "outputs": [
    {
     "ename": "ModuleNotFoundError",
     "evalue": "No module named 'xvfbwrapper'",
     "output_type": "error",
     "traceback": [
      "\u001b[0;31m---------------------------------------------------------------------------\u001b[0m",
      "\u001b[0;31mModuleNotFoundError\u001b[0m                       Traceback (most recent call last)",
      "\u001b[0;32m/tmp/ipykernel_95/1730117167.py\u001b[0m in \u001b[0;36m<module>\u001b[0;34m\u001b[0m\n\u001b[0;32m----> 1\u001b[0;31m \u001b[0;32mfrom\u001b[0m \u001b[0mIODA_run_OpenMS_targeted\u001b[0m \u001b[0;32mimport\u001b[0m \u001b[0;34m*\u001b[0m\u001b[0;34m\u001b[0m\u001b[0;34m\u001b[0m\u001b[0m\n\u001b[0m\u001b[1;32m      2\u001b[0m \u001b[0mIODA_targeted_workflow\u001b[0m\u001b[0;34m(\u001b[0m\u001b[0minput_BLANK\u001b[0m\u001b[0;34m,\u001b[0m\u001b[0minput_SAMPLE\u001b[0m\u001b[0;34m,\u001b[0m\u001b[0mppm_error\u001b[0m\u001b[0;34m,\u001b[0m\u001b[0mnoise_level\u001b[0m\u001b[0;34m)\u001b[0m\u001b[0;34m\u001b[0m\u001b[0;34m\u001b[0m\u001b[0m\n",
      "\u001b[0;32m~/IODA_run_OpenMS_targeted.py\u001b[0m in \u001b[0;36m<module>\u001b[0;34m\u001b[0m\n\u001b[1;32m      3\u001b[0m \u001b[0;32mimport\u001b[0m \u001b[0msubprocess\u001b[0m\u001b[0;34m\u001b[0m\u001b[0;34m\u001b[0m\u001b[0m\n\u001b[1;32m      4\u001b[0m \u001b[0;32mimport\u001b[0m \u001b[0msys\u001b[0m\u001b[0;34m\u001b[0m\u001b[0;34m\u001b[0m\u001b[0m\n\u001b[0;32m----> 5\u001b[0;31m \u001b[0;32mfrom\u001b[0m \u001b[0mxvfbwrapper\u001b[0m \u001b[0;32mimport\u001b[0m \u001b[0mXvfb\u001b[0m\u001b[0;34m\u001b[0m\u001b[0;34m\u001b[0m\u001b[0m\n\u001b[0m\u001b[1;32m      6\u001b[0m \u001b[0;32mfrom\u001b[0m \u001b[0mlogzero\u001b[0m \u001b[0;32mimport\u001b[0m \u001b[0mlogger\u001b[0m\u001b[0;34m,\u001b[0m \u001b[0mlogfile\u001b[0m\u001b[0;34m\u001b[0m\u001b[0;34m\u001b[0m\u001b[0m\n\u001b[1;32m      7\u001b[0m \u001b[0;32mimport\u001b[0m \u001b[0mdatetime\u001b[0m\u001b[0;34m\u001b[0m\u001b[0;34m\u001b[0m\u001b[0m\n",
      "\u001b[0;31mModuleNotFoundError\u001b[0m: No module named 'xvfbwrapper'"
     ]
    }
   ],
   "source": [
    "from IODA_run_OpenMS_targeted import *\n",
    "IODA_targeted_workflow(input_BLANK,input_SAMPLE,ppm_error,noise_level)"
   ]
  },
  {
   "cell_type": "code",
   "execution_count": null,
   "metadata": {},
   "outputs": [],
   "source": []
  },
  {
   "cell_type": "code",
   "execution_count": 1,
   "metadata": {},
   "outputs": [],
   "source": [
    "#input_mzTab = 'tests/BP_mzTab/SA113_Media_SPE_MeOH_MS1_to_SA113_SPE_MeOH_MS1_mrgd.mzTab'\n",
    "input_mzTab = 'tests/Euphorbia/Targeted/ioda_input/Euphorbia_rogers_latex_Blank_MS1_2uL_to_Euphorbia_rogers_latex_latex_MS1_2uL_mrgd.mzTab'\n",
    "#input_filename = 'tests/BP_mzTab/SA113_Media_SPE_MeOH_MS1_to_SA113_SPE_MeOH_MS1_mrgd.mzTab'\n",
    "#output_filename = 'tests/BP_mzTab/TEMP_Media_SPE_MeOH_MS1_to_SA113_SPE_MeOH_MS1_mrgd.csv'\n",
    "#convert_mzTab_to_table(input_filename,output_filename)"
   ]
  },
  {
   "cell_type": "code",
   "execution_count": 2,
   "metadata": {},
   "outputs": [],
   "source": [
    "from IODA_MS2Planner_workflow import *"
   ]
  },
  {
   "cell_type": "code",
   "execution_count": 3,
   "metadata": {},
   "outputs": [],
   "source": [
    "# Best Path shared parameters\n",
    "min_ratio_value = 3\n",
    "min_intensity_value = 3E4\n",
    "experiment_number = 5\n",
    "isolation = 1.5\n",
    "delay = 0.1 #sec\n",
    "\n",
    "# Target ion list parameters\n",
    "rt_margin = 0.3"
   ]
  },
  {
   "cell_type": "markdown",
   "metadata": {},
   "source": [
    "## Baseline mode"
   ]
  },
  {
   "cell_type": "code",
   "execution_count": 4,
   "metadata": {},
   "outputs": [],
   "source": [
    "# Baseline parameter\n",
    "win_len = 0.5"
   ]
  },
  {
   "cell_type": "code",
   "execution_count": 5,
   "metadata": {},
   "outputs": [
    {
     "name": "stderr",
     "output_type": "stream",
     "text": [
      "[I 230316 17:08:22 IODA_MS2Planner_workflow:130] STARTING THE MS2Planner WORKFLOW\n",
      "[I 230316 17:08:22 IODA_MS2Planner_workflow:141] the input_filename variable should be a valid path/download link or must be: 'OpenMS_generated', when using the OpenMS workflow online\n",
      "[I 230316 17:08:22 IODA_MS2Planner_workflow:144] 2023-03-16 17:08:22.030042\n",
      "[I 230316 17:08:22 IODA_MS2Planner_workflow:146] ======\n",
      "[I 230316 17:08:22 IODA_MS2Planner_workflow:147] Getting the mzTab\n",
      "[I 230316 17:08:22 IODA_MS2Planner_workflow:163] This is the input file path: tests/Euphorbia/Targeted/ioda_input/Euphorbia_rogers_latex_Blank_MS1_2uL_to_Euphorbia_rogers_latex_latex_MS1_2uL_mrgd.mzTab\n",
      "[I 230316 17:08:22 IODA_MS2Planner_workflow:164] This is the output file path: results_targeted_MS2Planner_baseline/Euphorbia_rogers_latex_Blank_MS1_2uL_to_Euphorbia_rogers_latex_latex_MS1_2uL_mrgd.csv\n",
      "[I 230316 17:08:22 IODA_MS2Planner_workflow:168] ======\n",
      "[I 230316 17:08:22 IODA_MS2Planner_workflow:169] Converting mzTab to intermediate table format ...\n",
      "[I 230316 17:08:22 IODA_MS2Planner_workflow:75] - For sample Euphorbia_rogers_latex_Blank_MS1_2uL the sum of feature intensities is = 6.67e+08\n",
      "[I 230316 17:08:22 IODA_MS2Planner_workflow:77] - For sample Euphorbia_rogers_latex_latex_MS1_2uL the sum of feature intensities = 5.75e+10\n",
      "[I 230316 17:08:22 IODA_MS2Planner_workflow:171] ======\n",
      "[I 230316 17:08:22 IODA_MS2Planner_workflow:176] Assumed sample filename: Euphorbia_rogers_latex_latex_MS1_2uL\n",
      "[I 230316 17:08:22 IODA_MS2Planner_workflow:178] Assumed blank filename: Euphorbia_rogers_latex_Blank_MS1_2uL\n",
      "[I 230316 17:08:22 IODA_MS2Planner_workflow:179] ======\n",
      "[I 230316 17:08:22 IODA_MS2Planner_workflow:182] User-defined parameters\n",
      "[I 230316 17:08:22 IODA_MS2Planner_workflow:184]     Ratio between sample/blank for ion filtering = 3\n",
      "[I 230316 17:08:22 IODA_MS2Planner_workflow:186]     Minimum intensity for ion filtering in sample = 3.00e+04\n",
      "[I 230316 17:08:22 IODA_MS2Planner_workflow:187]     Retention time window (min.) for binning target ions = 0.5\n",
      "[I 230316 17:08:22 IODA_MS2Planner_workflow:188]     Isolation window (m/z) = 1.5\n",
      "[I 230316 17:08:22 IODA_MS2Planner_workflow:189]     Retention time margin (sec.) = 0.1\n",
      "[I 230316 17:08:22 IODA_MS2Planner_workflow:191]     Number of iterative experiment(s) = 5\n",
      "[I 230316 17:08:22 IODA_MS2Planner_workflow:192] User-defined parameters for the output\n",
      "[I 230316 17:08:22 IODA_MS2Planner_workflow:193]     Retention time margin for target ion list (sec. = 0.3\n",
      "[I 230316 17:08:22 IODA_MS2Planner_workflow:194] ======\n",
      "[I 230316 17:08:22 IODA_MS2Planner_workflow:197] Running MS2Planner in Baseline mode ...\n",
      "[I 230316 17:08:22 IODA_MS2Planner_workflow:688] Command: python3 MS2Planner/path_finder.py baseline results_targeted_MS2Planner_baseline/Euphorbia_rogers_latex_Blank_MS1_2uL_to_Euphorbia_rogers_latex_latex_MS1_2uL_mrgd.csv results_targeted_MS2Planner_baseline/Euphorbia_rogers_latex_Blank_MS1_2uL_to_Euphorbia_rogers_latex_latex_MS1_2uL_mrgd_MS2Planner.csv 30000.0 3 5 -win_len 0.5 -isolation 1.5 -delay 0.1\n",
      "Traceback (most recent call last):\n",
      "  File \"/home/jovyan/MS2Planner/path_finder.py\", line 9, in <module>\n",
      "    import path_curve as curve\n",
      "  File \"/home/jovyan/MS2Planner/path_curve.py\", line 758\n",
      "    logger.info(\"Step 3)\n",
      "                ^\n",
      "SyntaxError: unterminated string literal (detected at line 758)\n",
      "[I 230316 17:08:22 IODA_MS2Planner_workflow:213] ======\n",
      "[I 230316 17:08:22 IODA_MS2Planner_workflow:217] \n",
      "[I 230316 17:08:22 IODA_MS2Planner_workflow:227] Problem when running MS2Planner Path !!!\n",
      "[I 230316 17:08:22 IODA_MS2Planner_workflow:231] Preparing results ...\n",
      "sed: can't read results_targeted_MS2Planner_baseline/Euphorbia_rogers_latex_Blank_MS1_2uL_to_Euphorbia_rogers_latex_latex_MS1_2uL_mrgd_MS2Planner.csv: No such file or directory\n",
      "[I 230316 17:08:22 IODA_MS2Planner_workflow:650] File processed: results_targeted_MS2Planner_baseline/Euphorbia_rogers_latex_Blank_MS1_2uL_to_Euphorbia_rogers_latex_latex_MS1_2uL_mrgd_MS2Planner.csv\n",
      "[I 230316 17:08:22 IODA_MS2Planner_workflow:651] ======\n"
     ]
    },
    {
     "name": "stdout",
     "output_type": "stream",
     "text": [
      "<---------- !!!!!!!!!!!!!!!!!! ---------->\n",
      "Problem when running MS2Planner Path !!!\n",
      "<---------- !!!!!!!!!!!!!!!!!! ---------->\n"
     ]
    },
    {
     "ename": "FileNotFoundError",
     "evalue": "[Errno 2] No such file or directory: 'results_targeted_MS2Planner_baseline/Euphorbia_rogers_latex_Blank_MS1_2uL_to_Euphorbia_rogers_latex_latex_MS1_2uL_mrgd_MS2Planner.csv'",
     "output_type": "error",
     "traceback": [
      "\u001b[0;31m---------------------------------------------------------------------------\u001b[0m",
      "\u001b[0;31mFileNotFoundError\u001b[0m                         Traceback (most recent call last)",
      "Cell \u001b[0;32mIn[5], line 4\u001b[0m\n\u001b[1;32m      1\u001b[0m \u001b[38;5;66;03m# Run Path Finder with Baseline method \u001b[39;00m\n\u001b[1;32m      2\u001b[0m \u001b[38;5;66;03m#run_path_finder_baseline_from_mzTab(input_mzTab, experiment_number, min_ratio_value, min_intensity_value, win_len, isolation, rt_margin)\u001b[39;00m\n\u001b[0;32m----> 4\u001b[0m \u001b[43mrun_MS2Planner_baseline_from_mzTab\u001b[49m\u001b[43m(\u001b[49m\u001b[43minput_mzTab\u001b[49m\u001b[43m,\u001b[49m\u001b[43m \u001b[49m\u001b[43mexperiment_number\u001b[49m\u001b[43m,\u001b[49m\u001b[43m \u001b[49m\u001b[43mmin_ratio_value\u001b[49m\u001b[43m,\u001b[49m\u001b[43m\\\u001b[49m\n\u001b[1;32m      5\u001b[0m \u001b[43m                                   \u001b[49m\u001b[43mmin_intensity_value\u001b[49m\u001b[43m,\u001b[49m\u001b[43m \u001b[49m\u001b[43mwin_len\u001b[49m\u001b[43m,\u001b[49m\u001b[43m \u001b[49m\u001b[43misolation\u001b[49m\u001b[43m,\u001b[49m\u001b[43m \u001b[49m\u001b[43mdelay\u001b[49m\u001b[43m,\u001b[49m\u001b[43m \u001b[49m\u001b[43m\\\u001b[49m\n\u001b[1;32m      6\u001b[0m \u001b[43m                                   \u001b[49m\u001b[43mrt_margin\u001b[49m\u001b[43m)\u001b[49m\n",
      "File \u001b[0;32m~/IODA_MS2Planner_workflow.py:233\u001b[0m, in \u001b[0;36mrun_MS2Planner_baseline_from_mzTab\u001b[0;34m(input_filename, num_path, intensity_ratio, intensity_threshold, win_len, isolation, delay, rt_margin)\u001b[0m\n\u001b[1;32m    231\u001b[0m logger\u001b[38;5;241m.\u001b[39minfo(\u001b[38;5;124m'\u001b[39m\u001b[38;5;124mPreparing results ...\u001b[39m\u001b[38;5;124m'\u001b[39m)\n\u001b[1;32m    232\u001b[0m min_scan \u001b[38;5;241m=\u001b[39m \u001b[38;5;241m0\u001b[39m \u001b[38;5;66;03m#Hardcoded to keep the same def function with Curve mode. Parameter only used in Curve mode.\u001b[39;00m\n\u001b[0;32m--> 233\u001b[0m \u001b[43mmake_MS2Planner_targeted_lists_from_table\u001b[49m\u001b[43m(\u001b[49m\u001b[43moutput_filename\u001b[49m\u001b[43m[\u001b[49m\u001b[43m:\u001b[49m\u001b[38;5;241;43m-\u001b[39;49m\u001b[38;5;241;43m4\u001b[39;49m\u001b[43m]\u001b[49m\u001b[38;5;241;43m+\u001b[39;49m\u001b[38;5;124;43m'\u001b[39;49m\u001b[38;5;124;43m_MS2Planner.csv\u001b[39;49m\u001b[38;5;124;43m'\u001b[39;49m\u001b[43m,\u001b[49m\u001b[43m \u001b[49m\u001b[43mrt_margin\u001b[49m\u001b[43m,\u001b[49m\u001b[43m \u001b[49m\u001b[43mmin_scan\u001b[49m\u001b[43m)\u001b[49m\n\u001b[1;32m    234\u001b[0m logger\u001b[38;5;241m.\u001b[39minfo(\u001b[38;5;124m'\u001b[39m\u001b[38;5;124m======\u001b[39m\u001b[38;5;124m'\u001b[39m)\n\u001b[1;32m    236\u001b[0m logger\u001b[38;5;241m.\u001b[39minfo(\u001b[38;5;124m'\u001b[39m\u001b[38;5;124mCleaning and zipping workflow results files ...\u001b[39m\u001b[38;5;124m'\u001b[39m)\n",
      "File \u001b[0;32m~/IODA_MS2Planner_workflow.py:652\u001b[0m, in \u001b[0;36mmake_MS2Planner_targeted_lists_from_table\u001b[0;34m(input_filename, rt_margin, transient_time)\u001b[0m\n\u001b[1;32m    650\u001b[0m logger\u001b[38;5;241m.\u001b[39minfo(\u001b[38;5;124m'\u001b[39m\u001b[38;5;124mFile processed: \u001b[39m\u001b[38;5;124m'\u001b[39m\u001b[38;5;241m+\u001b[39minput_filename)\n\u001b[1;32m    651\u001b[0m logger\u001b[38;5;241m.\u001b[39minfo(\u001b[38;5;124m'\u001b[39m\u001b[38;5;124m======\u001b[39m\u001b[38;5;124m'\u001b[39m)\n\u001b[0;32m--> 652\u001b[0m \u001b[38;5;28;01mwith\u001b[39;00m \u001b[38;5;28;43mopen\u001b[39;49m\u001b[43m(\u001b[49m\u001b[43minput_filename\u001b[49m\u001b[43m)\u001b[49m \u001b[38;5;28;01mas\u001b[39;00m file:\n\u001b[1;32m    653\u001b[0m     counter \u001b[38;5;241m=\u001b[39m \u001b[38;5;241m-\u001b[39m\u001b[38;5;241m1\u001b[39m\n\u001b[1;32m    654\u001b[0m     \u001b[38;5;28;01mfor\u001b[39;00m line \u001b[38;5;129;01min\u001b[39;00m file:\n",
      "\u001b[0;31mFileNotFoundError\u001b[0m: [Errno 2] No such file or directory: 'results_targeted_MS2Planner_baseline/Euphorbia_rogers_latex_Blank_MS1_2uL_to_Euphorbia_rogers_latex_latex_MS1_2uL_mrgd_MS2Planner.csv'"
     ]
    }
   ],
   "source": [
    "# Run Path Finder with Baseline method \n",
    "#run_path_finder_baseline_from_mzTab(input_mzTab, experiment_number, min_ratio_value, min_intensity_value, win_len, isolation, rt_margin)\n",
    "\n",
    "run_MS2Planner_baseline_from_mzTab(input_mzTab, experiment_number, min_ratio_value,\\\n",
    "                                   min_intensity_value, win_len, isolation, delay, \\\n",
    "                                   rt_margin)"
   ]
  },
  {
   "cell_type": "markdown",
   "metadata": {},
   "source": [
    "## Apex mode"
   ]
  },
  {
   "cell_type": "code",
   "execution_count": 6,
   "metadata": {},
   "outputs": [],
   "source": [
    "# Apex parameters\n",
    "intensity_accu = 3e5\n",
    "delay = 0.1\n",
    "min_scan = 0.1\n",
    "max_scan = 0.5\n",
    "transient_time = 30"
   ]
  },
  {
   "cell_type": "code",
   "execution_count": 7,
   "metadata": {},
   "outputs": [
    {
     "name": "stderr",
     "output_type": "stream",
     "text": [
      "[I 230316 17:08:23 IODA_MS2Planner_workflow:282] STARTING THE MS2Planner WORKFLOW\n",
      "[I 230316 17:08:23 IODA_MS2Planner_workflow:292] the input_filename variable should be a valid path/download link or must be: 'OpenMS_generated', when using the OpenMS workflow online\n",
      "[I 230316 17:08:23 IODA_MS2Planner_workflow:295] 2023-03-16 17:08:23.218528\n",
      "[I 230316 17:08:23 IODA_MS2Planner_workflow:297] ======\n",
      "[I 230316 17:08:23 IODA_MS2Planner_workflow:298] Getting the mzTab\n",
      "[I 230316 17:08:23 IODA_MS2Planner_workflow:314] This is the input file path: tests/Euphorbia/Targeted/ioda_input/Euphorbia_rogers_latex_Blank_MS1_2uL_to_Euphorbia_rogers_latex_latex_MS1_2uL_mrgd.mzTab\n",
      "[I 230316 17:08:23 IODA_MS2Planner_workflow:315] This is the output file path: results_targeted_MS2Planner_apex/Euphorbia_rogers_latex_Blank_MS1_2uL_to_Euphorbia_rogers_latex_latex_MS1_2uL_mrgd.csv\n",
      "[I 230316 17:08:23 IODA_MS2Planner_workflow:319] ======\n",
      "[I 230316 17:08:23 IODA_MS2Planner_workflow:320] Converting mzTab to intermediate table format ...\n",
      "[I 230316 17:08:23 IODA_MS2Planner_workflow:75] - For sample Euphorbia_rogers_latex_Blank_MS1_2uL the sum of feature intensities is = 6.67e+08\n",
      "[I 230316 17:08:23 IODA_MS2Planner_workflow:77] - For sample Euphorbia_rogers_latex_latex_MS1_2uL the sum of feature intensities = 5.75e+10\n",
      "[I 230316 17:08:23 IODA_MS2Planner_workflow:322] ======\n",
      "[I 230316 17:08:23 IODA_MS2Planner_workflow:327] Assumed sample filename: Euphorbia_rogers_latex_latex_MS1_2uL\n",
      "[I 230316 17:08:23 IODA_MS2Planner_workflow:329] Assumed blank filename: Euphorbia_rogers_latex_Blank_MS1_2uL\n",
      "[I 230316 17:08:23 IODA_MS2Planner_workflow:330] ======\n",
      "[I 230316 17:08:23 IODA_MS2Planner_workflow:333] User-defined parameters\n",
      "[I 230316 17:08:23 IODA_MS2Planner_workflow:335]     Ratio between sample/blank for ion filtering = 3\n",
      "[I 230316 17:08:23 IODA_MS2Planner_workflow:337]     Minimum intensity for ion filtering in sample = 3.00e+04\n",
      "[I 230316 17:08:23 IODA_MS2Planner_workflow:338]     Precursor ion intensity to accumulate in the MS2 scan = 3.00e+05\n",
      "[I 230316 17:08:23 IODA_MS2Planner_workflow:339]     Isolation window (m/z) = 1.5\n",
      "[I 230316 17:08:23 IODA_MS2Planner_workflow:340]     Delay between targeted MS2 scans (sec.)= 0.1\n",
      "[I 230316 17:08:23 IODA_MS2Planner_workflow:341]     Minimum MS2 scan duty cycle (sec.)= 0.1\n",
      "[I 230316 17:08:23 IODA_MS2Planner_workflow:342]     Maximum MS2 scan duty cycle (sec.)= 0.5\n",
      "[I 230316 17:08:23 IODA_MS2Planner_workflow:344]     Number of iterative experiment(s) = 5\n",
      "[I 230316 17:08:23 IODA_MS2Planner_workflow:345] User-defined parameters for the output\n",
      "[I 230316 17:08:23 IODA_MS2Planner_workflow:346]     Retention time margin for target ion list (sec. = 0.3\n",
      "[I 230316 17:08:23 IODA_MS2Planner_workflow:347]     Orbitrap transient + overhead time for MaxQuant.Live (msec.) = 30\n",
      "[I 230316 17:08:23 IODA_MS2Planner_workflow:349] ======\n",
      "[I 230316 17:08:23 IODA_MS2Planner_workflow:352] Running MS2Planner in Apex mode ...\n",
      "[I 230316 17:08:23 IODA_MS2Planner_workflow:693] Command: python3 MS2Planner/path_finder.py apex results_targeted_MS2Planner_apex/Euphorbia_rogers_latex_Blank_MS1_2uL_to_Euphorbia_rogers_latex_latex_MS1_2uL_mrgd.csv results_targeted_MS2Planner_apex/Euphorbia_rogers_latex_Blank_MS1_2uL_to_Euphorbia_rogers_latex_latex_MS1_2uL_mrgd_MS2Planner.csv 30000.0 3 5 -intensity_accu 300000.0 -isolation 1.5 -delay 0.1 -min_scan 0.1 -max_scan 0.5\n",
      "Traceback (most recent call last):\n",
      "  File \"/home/jovyan/MS2Planner/path_finder.py\", line 9, in <module>\n",
      "    import path_curve as curve\n",
      "  File \"/home/jovyan/MS2Planner/path_curve.py\", line 758\n",
      "    logger.info(\"Step 3)\n",
      "                ^\n",
      "SyntaxError: unterminated string literal (detected at line 758)\n",
      "[I 230316 17:08:23 IODA_MS2Planner_workflow:369] ======\n",
      "[I 230316 17:08:23 IODA_MS2Planner_workflow:373] \n",
      "[I 230316 17:08:23 IODA_MS2Planner_workflow:375] ======\n",
      "[I 230316 17:08:23 IODA_MS2Planner_workflow:385] Problem when running MS2Planner !!!\n",
      "[I 230316 17:08:23 IODA_MS2Planner_workflow:390] Preparing results ...\n",
      "sed: can't read results_targeted_MS2Planner_apex/Euphorbia_rogers_latex_Blank_MS1_2uL_to_Euphorbia_rogers_latex_latex_MS1_2uL_mrgd_MS2Planner.csv: No such file or directory\n",
      "[I 230316 17:08:23 IODA_MS2Planner_workflow:650] File processed: results_targeted_MS2Planner_apex/Euphorbia_rogers_latex_Blank_MS1_2uL_to_Euphorbia_rogers_latex_latex_MS1_2uL_mrgd_MS2Planner.csv\n",
      "[I 230316 17:08:23 IODA_MS2Planner_workflow:651] ======\n"
     ]
    },
    {
     "name": "stdout",
     "output_type": "stream",
     "text": [
      "<---------- !!!!!!!!!!!!!!!!!! ---------->\n",
      "Problem when running MS2Planner !!!\n",
      "<---------- !!!!!!!!!!!!!!!!!! ---------->\n"
     ]
    },
    {
     "ename": "FileNotFoundError",
     "evalue": "[Errno 2] No such file or directory: 'results_targeted_MS2Planner_apex/Euphorbia_rogers_latex_Blank_MS1_2uL_to_Euphorbia_rogers_latex_latex_MS1_2uL_mrgd_MS2Planner.csv'",
     "output_type": "error",
     "traceback": [
      "\u001b[0;31m---------------------------------------------------------------------------\u001b[0m",
      "\u001b[0;31mFileNotFoundError\u001b[0m                         Traceback (most recent call last)",
      "Cell \u001b[0;32mIn[7], line 2\u001b[0m\n\u001b[1;32m      1\u001b[0m \u001b[38;5;66;03m# Run Path Finder with Apex method   \u001b[39;00m\n\u001b[0;32m----> 2\u001b[0m \u001b[43mrun_MS2Planner_apex_from_mzTab\u001b[49m\u001b[43m(\u001b[49m\u001b[43minput_mzTab\u001b[49m\u001b[43m,\u001b[49m\u001b[43m \u001b[49m\u001b[43mexperiment_number\u001b[49m\u001b[43m,\u001b[49m\u001b[43m \u001b[49m\u001b[43mmin_ratio_value\u001b[49m\u001b[43m,\u001b[49m\u001b[43m \u001b[49m\n\u001b[1;32m      3\u001b[0m \u001b[43m                               \u001b[49m\u001b[43mmin_intensity_value\u001b[49m\u001b[43m,\u001b[49m\u001b[43m \u001b[49m\u001b[43mintensity_accu\u001b[49m\u001b[43m,\u001b[49m\u001b[43m \u001b[49m\u001b[43misolation\u001b[49m\u001b[43m,\u001b[49m\u001b[43m \u001b[49m\u001b[43mdelay\u001b[49m\u001b[43m,\u001b[49m\u001b[43m \u001b[49m\u001b[43mmin_scan\u001b[49m\u001b[43m,\u001b[49m\u001b[43m \u001b[49m\u001b[43mmax_scan\u001b[49m\u001b[43m,\u001b[49m\n\u001b[1;32m      4\u001b[0m \u001b[43m                               \u001b[49m\u001b[43mrt_margin\u001b[49m\u001b[43m,\u001b[49m\u001b[43m \u001b[49m\u001b[43mtransient_time\u001b[49m\u001b[43m)\u001b[49m\n",
      "File \u001b[0;32m~/IODA_MS2Planner_workflow.py:391\u001b[0m, in \u001b[0;36mrun_MS2Planner_apex_from_mzTab\u001b[0;34m(input_filename, num_path, intensity_ratio, intensity_threshold, intensity_accu, isolation, delay, min_scan, max_scan, rt_margin, transient_time)\u001b[0m\n\u001b[1;32m    389\u001b[0m scan_time \u001b[38;5;241m=\u001b[39m \u001b[38;5;241m0\u001b[39m \u001b[38;5;66;03m#Hardcoded to keep the same def function with Curve mode. Parameter only used in Curve mode.\u001b[39;00m\n\u001b[1;32m    390\u001b[0m logger\u001b[38;5;241m.\u001b[39minfo(\u001b[38;5;124m'\u001b[39m\u001b[38;5;124mPreparing results ...\u001b[39m\u001b[38;5;124m'\u001b[39m)\n\u001b[0;32m--> 391\u001b[0m \u001b[43mmake_MS2Planner_targeted_lists_from_table\u001b[49m\u001b[43m(\u001b[49m\u001b[43moutput_filename\u001b[49m\u001b[43m[\u001b[49m\u001b[43m:\u001b[49m\u001b[38;5;241;43m-\u001b[39;49m\u001b[38;5;241;43m4\u001b[39;49m\u001b[43m]\u001b[49m\u001b[38;5;241;43m+\u001b[39;49m\u001b[38;5;124;43m'\u001b[39;49m\u001b[38;5;124;43m_MS2Planner.csv\u001b[39;49m\u001b[38;5;124;43m'\u001b[39;49m\u001b[43m,\u001b[49m\u001b[43mrt_margin\u001b[49m\u001b[43m,\u001b[49m\u001b[43m \u001b[49m\u001b[43mtransient_time\u001b[49m\u001b[43m)\u001b[49m\n\u001b[1;32m    392\u001b[0m logger\u001b[38;5;241m.\u001b[39minfo(\u001b[38;5;124m'\u001b[39m\u001b[38;5;124m======\u001b[39m\u001b[38;5;124m'\u001b[39m)\n\u001b[1;32m    394\u001b[0m logger\u001b[38;5;241m.\u001b[39minfo(\u001b[38;5;124m'\u001b[39m\u001b[38;5;124mCleaning and zipping workflow results files ...\u001b[39m\u001b[38;5;124m'\u001b[39m)\n",
      "File \u001b[0;32m~/IODA_MS2Planner_workflow.py:652\u001b[0m, in \u001b[0;36mmake_MS2Planner_targeted_lists_from_table\u001b[0;34m(input_filename, rt_margin, transient_time)\u001b[0m\n\u001b[1;32m    650\u001b[0m logger\u001b[38;5;241m.\u001b[39minfo(\u001b[38;5;124m'\u001b[39m\u001b[38;5;124mFile processed: \u001b[39m\u001b[38;5;124m'\u001b[39m\u001b[38;5;241m+\u001b[39minput_filename)\n\u001b[1;32m    651\u001b[0m logger\u001b[38;5;241m.\u001b[39minfo(\u001b[38;5;124m'\u001b[39m\u001b[38;5;124m======\u001b[39m\u001b[38;5;124m'\u001b[39m)\n\u001b[0;32m--> 652\u001b[0m \u001b[38;5;28;01mwith\u001b[39;00m \u001b[38;5;28;43mopen\u001b[39;49m\u001b[43m(\u001b[49m\u001b[43minput_filename\u001b[49m\u001b[43m)\u001b[49m \u001b[38;5;28;01mas\u001b[39;00m file:\n\u001b[1;32m    653\u001b[0m     counter \u001b[38;5;241m=\u001b[39m \u001b[38;5;241m-\u001b[39m\u001b[38;5;241m1\u001b[39m\n\u001b[1;32m    654\u001b[0m     \u001b[38;5;28;01mfor\u001b[39;00m line \u001b[38;5;129;01min\u001b[39;00m file:\n",
      "\u001b[0;31mFileNotFoundError\u001b[0m: [Errno 2] No such file or directory: 'results_targeted_MS2Planner_apex/Euphorbia_rogers_latex_Blank_MS1_2uL_to_Euphorbia_rogers_latex_latex_MS1_2uL_mrgd_MS2Planner.csv'"
     ]
    }
   ],
   "source": [
    "# Run Path Finder with Apex method   \n",
    "run_MS2Planner_apex_from_mzTab(input_mzTab, experiment_number, min_ratio_value, \n",
    "                               min_intensity_value, intensity_accu, isolation, delay, min_scan, max_scan,\n",
    "                               rt_margin, transient_time)"
   ]
  },
  {
   "cell_type": "markdown",
   "metadata": {},
   "source": [
    "## Curve mode"
   ]
  },
  {
   "cell_type": "code",
   "execution_count": 14,
   "metadata": {},
   "outputs": [
    {
     "ename": "NameError",
     "evalue": "name 'input_SAMPLE' is not defined",
     "output_type": "error",
     "traceback": [
      "\u001b[0;31m---------------------------------------------------------------------------\u001b[0m",
      "\u001b[0;31mNameError\u001b[0m                                 Traceback (most recent call last)",
      "Cell \u001b[0;32mIn[14], line 1\u001b[0m\n\u001b[0;32m----> 1\u001b[0m \u001b[38;5;28mprint\u001b[39m(\u001b[43minput_SAMPLE\u001b[49m)\n\u001b[1;32m      2\u001b[0m Path_Finder_Curve_OpenMS(input_SAMPLE,ppm_error,noise_level)\n",
      "\u001b[0;31mNameError\u001b[0m: name 'input_SAMPLE' is not defined"
     ]
    }
   ],
   "source": [
    "print(input_SAMPLE)\n",
    "Path_Finder_Curve_OpenMS(input_SAMPLE,ppm_error,noise_level)"
   ]
  },
  {
   "cell_type": "code",
   "execution_count": 15,
   "metadata": {},
   "outputs": [],
   "source": [
    "# Curve parameters\n",
    "#input_filename_curve = 'test/Euphorbia/MS2Planner_curve_file/Euphorbia_rogers_latex_latex_MS1_2uL.mzTab'"
   ]
  },
  {
   "cell_type": "code",
   "execution_count": 16,
   "metadata": {},
   "outputs": [],
   "source": [
    "input_filename_curve = \"tests/Euphorbia/Targeted/toppas_input/Euphorbia_rogers_latex_latex_MS1_2uL.mzML\"\n",
    "rt_tolerance_curve = 2 \n",
    "mz_tolerance_curve = 0.02\n",
    "intensity_accu = 1e6\n",
    "restriction = 2\n",
    "delay = 0.1\n",
    "min_scan = 0.1\n",
    "max_scan = 0.5\n",
    "cluster = 'kNN'\n",
    "transient_time = 100 #ms\n",
    "\n",
    "#!python3 MS2Planner/path_finder.py curve results_targeted_MS2Planner_curve/mrgd.csv \n",
    "#results_targeted_MS2Planner_curve/Euphorbia_rogers_Planner.csv\n",
    "#0 3 3 -infile_raw Euphorbia_rogers_latex_latex_MS1_2uL.mzML \n",
    "#-intensity_accu 1000000.0 -restriction 2 0.02 -isolation 1.5 -delay 0.02 -min_scan 0.1 -max_scan 0.5 -cluster kNN\n"
   ]
  },
  {
   "cell_type": "code",
   "execution_count": 17,
   "metadata": {},
   "outputs": [
    {
     "name": "stderr",
     "output_type": "stream",
     "text": [
      "[I 230316 17:08:10 IODA_MS2Planner_workflow:441] STARTING THE MS2Planner WORKFLOW\n",
      "[I 230316 17:08:10 IODA_MS2Planner_workflow:451] the input_filename variable should be a valid path/download link or must be: 'OpenMS_generated', when using the OpenMS workflow online\n",
      "[I 230316 17:08:10 IODA_MS2Planner_workflow:454] 2023-03-16 17:08:10.244625\n",
      "[I 230316 17:08:10 IODA_MS2Planner_workflow:456] ======\n",
      "[I 230316 17:08:10 IODA_MS2Planner_workflow:457] Getting the mzTab\n",
      "[I 230316 17:08:10 IODA_MS2Planner_workflow:473] This is the input file path: tests/Euphorbia/Targeted/ioda_input/Euphorbia_rogers_latex_Blank_MS1_2uL_to_Euphorbia_rogers_latex_latex_MS1_2uL_mrgd.mzTab\n",
      "[I 230316 17:08:10 IODA_MS2Planner_workflow:474] This is the output file path: results_targeted_MS2Planner_curve/Euphorbia_rogers_latex_Blank_MS1_2uL_to_Euphorbia_rogers_latex_latex_MS1_2uL_mrgd.csv\n",
      "[I 230316 17:08:10 IODA_MS2Planner_workflow:489] mzTab for the Curve mode found from the user specified path\n",
      "[I 230316 17:08:10 IODA_MS2Planner_workflow:501] ======\n",
      "[I 230316 17:08:10 IODA_MS2Planner_workflow:502] Converting mzTab to intermediate table format ...\n",
      "[I 230316 17:08:10 IODA_MS2Planner_workflow:75] - For sample Euphorbia_rogers_latex_Blank_MS1_2uL the sum of feature intensities is = 6.67e+08\n",
      "[I 230316 17:08:10 IODA_MS2Planner_workflow:77] - For sample Euphorbia_rogers_latex_latex_MS1_2uL the sum of feature intensities = 5.75e+10\n",
      "[I 230316 17:08:10 IODA_MS2Planner_workflow:504] ======\n",
      "[I 230316 17:08:10 IODA_MS2Planner_workflow:509] Assumed sample filename: Euphorbia_rogers_latex_latex_MS1_2uL\n",
      "[I 230316 17:08:10 IODA_MS2Planner_workflow:511] Assumed blank filename: Euphorbia_rogers_latex_Blank_MS1_2uL\n",
      "[I 230316 17:08:10 IODA_MS2Planner_workflow:512] Sample for the Curve mode: tests/Euphorbia/Targeted/toppas_input/Euphorbia_rogers_latex_latex_MS1_2uL.mzML\n",
      "[I 230316 17:08:10 IODA_MS2Planner_workflow:513] ======\n",
      "[I 230316 17:08:10 IODA_MS2Planner_workflow:517] User-defined parameters for MS2Planner\n",
      "[I 230316 17:08:10 IODA_MS2Planner_workflow:519]     Ratio between sample/blank for ion filtering = 3\n",
      "[I 230316 17:08:10 IODA_MS2Planner_workflow:521]     Minimum intensity for ion filtering in sample = 3.00e+04\n",
      "[I 230316 17:08:10 IODA_MS2Planner_workflow:522]     Precursor ion intensity to accumulate in the MS2 scan = 1.00e+06\n",
      "[I 230316 17:08:10 IODA_MS2Planner_workflow:523]     Input file for curve data : tests/Euphorbia/Targeted/toppas_input/Euphorbia_rogers_latex_latex_MS1_2uL.mzML\n",
      "[I 230316 17:08:10 IODA_MS2Planner_workflow:524]     Restriction parameter : 2\n",
      "[I 230316 17:08:10 IODA_MS2Planner_workflow:525]     Mass accuracy (m/z): 0.02\n",
      "[I 230316 17:08:10 IODA_MS2Planner_workflow:526]     Isolation window (m/z) = 1.5\n",
      "[I 230316 17:08:10 IODA_MS2Planner_workflow:527]     Delay between targeted MS2 scans (sec.)= 0.1\n",
      "[I 230316 17:08:10 IODA_MS2Planner_workflow:528]     Minimum MS2 scan duty cycle (sec.)= 0.1\n",
      "[I 230316 17:08:10 IODA_MS2Planner_workflow:529]     Maximum MS2 scan duty cycle (sec.)= 0.5\n",
      "[I 230316 17:08:10 IODA_MS2Planner_workflow:531]     Number of iterative experiment(s) = 5\n",
      "[I 230316 17:08:10 IODA_MS2Planner_workflow:532]     Mode for the curve mode: kNN\n",
      "[I 230316 17:08:10 IODA_MS2Planner_workflow:533] User-defined parameters for the output\n",
      "[I 230316 17:08:10 IODA_MS2Planner_workflow:534]     Retention time margin for target ion list (sec.) = 0.3\n",
      "[I 230316 17:08:10 IODA_MS2Planner_workflow:535]     Orbitrap transient + overhead time for MaxQuant.Live (msec.) = 100\n",
      "[I 230316 17:08:10 IODA_MS2Planner_workflow:536] ======\n",
      "[I 230316 17:08:10 IODA_MS2Planner_workflow:539] Running MS2Planner in Curve mode ...\n",
      "[I 230316 17:08:10 IODA_MS2Planner_workflow:698] Command: python3 MS2Planner/path_finder.py curve results_targeted_MS2Planner_curve/Euphorbia_rogers_latex_Blank_MS1_2uL_to_Euphorbia_rogers_latex_latex_MS1_2uL_mrgd.csv results_targeted_MS2Planner_curve/Euphorbia_rogers_latex_Blank_MS1_2uL_to_Euphorbia_rogers_latex_latex_MS1_2uL_mrgd_MS2Planner.csv 30000.0 3 5 -infile_raw tests/Euphorbia/Targeted/toppas_input/Euphorbia_rogers_latex_latex_MS1_2uL.mzML -intensity_accu 1000000.0 -restriction 2 0.02 -isolation 1.5 -delay 0.1 -min_scan 0.1 -max_scan 0.5 -cluster kNN\n",
      "[I 230316 17:08:10 IODA_MS2Planner_workflow:699] MS2Planner in Curve mode can take up to 10 minutes to complete ... please wait\n",
      "[I 230316 17:08:10 IODA_MS2Planner_workflow:700] Output of MS2Planner: results_targeted_MS2Planner_curve/Euphorbia_rogers_latex_Blank_MS1_2uL_to_Euphorbia_rogers_latex_latex_MS1_2uL_mrgd_MS2Planner.csv\n",
      "Traceback (most recent call last):\n",
      "  File \"/home/jovyan/MS2Planner/path_finder.py\", line 9, in <module>\n",
      "    import path_curve as curve\n",
      "  File \"/home/jovyan/MS2Planner/path_curve.py\", line 758\n",
      "    logger.info(\"Step 3)\n",
      "                ^\n",
      "SyntaxError: unterminated string literal (detected at line 758)\n",
      "[I 230316 17:08:10 IODA_MS2Planner_workflow:558] ======\n",
      "[I 230316 17:08:10 IODA_MS2Planner_workflow:562] \n",
      "cp: cannot create regular file 'results_targeted_MS2Planner_curve/log/path_finder_curve.log': No such file or directory\n",
      "[I 230316 17:08:10 IODA_MS2Planner_workflow:574] Problem when running MS2Planner !!!\n",
      "[I 230316 17:08:10 IODA_MS2Planner_workflow:578] ======\n",
      "[I 230316 17:08:10 IODA_MS2Planner_workflow:579] Preparing results ...\n",
      "sed: can't read results_targeted_MS2Planner_curve/Euphorbia_rogers_latex_Blank_MS1_2uL_to_Euphorbia_rogers_latex_latex_MS1_2uL_mrgd_MS2Planner.csv: No such file or directory\n",
      "[I 230316 17:08:10 IODA_MS2Planner_workflow:650] File processed: results_targeted_MS2Planner_curve/Euphorbia_rogers_latex_Blank_MS1_2uL_to_Euphorbia_rogers_latex_latex_MS1_2uL_mrgd_MS2Planner.csv\n",
      "[I 230316 17:08:10 IODA_MS2Planner_workflow:651] ======\n"
     ]
    },
    {
     "name": "stdout",
     "output_type": "stream",
     "text": [
      "<---------- !!!!!!!!!!!!!!!!!! ---------->\n",
      "Problem when running MS2Planner !!!\n",
      "<---------- !!!!!!!!!!!!!!!!!! ---------->\n"
     ]
    },
    {
     "ename": "FileNotFoundError",
     "evalue": "[Errno 2] No such file or directory: 'results_targeted_MS2Planner_curve/Euphorbia_rogers_latex_Blank_MS1_2uL_to_Euphorbia_rogers_latex_latex_MS1_2uL_mrgd_MS2Planner.csv'",
     "output_type": "error",
     "traceback": [
      "\u001b[0;31m---------------------------------------------------------------------------\u001b[0m",
      "\u001b[0;31mFileNotFoundError\u001b[0m                         Traceback (most recent call last)",
      "Cell \u001b[0;32mIn[17], line 2\u001b[0m\n\u001b[1;32m      1\u001b[0m \u001b[38;5;66;03m# Run Path Finder with Curve method\u001b[39;00m\n\u001b[0;32m----> 2\u001b[0m \u001b[43mrun_MS2Planner_curve_from_mzTab\u001b[49m\u001b[43m(\u001b[49m\u001b[43minput_mzTab\u001b[49m\u001b[43m,\u001b[49m\u001b[43m \u001b[49m\u001b[43mexperiment_number\u001b[49m\u001b[43m,\u001b[49m\u001b[43m \u001b[49m\u001b[43mmin_ratio_value\u001b[49m\u001b[43m,\u001b[49m\u001b[43m \u001b[49m\n\u001b[1;32m      3\u001b[0m \u001b[43m                                 \u001b[49m\u001b[43mmin_intensity_value\u001b[49m\u001b[43m,\u001b[49m\u001b[43m \u001b[49m\u001b[43minput_filename_curve\u001b[49m\u001b[43m,\u001b[49m\u001b[43m \u001b[49m\u001b[43mintensity_accu\u001b[49m\u001b[43m,\u001b[49m\u001b[43m \u001b[49m\n\u001b[1;32m      4\u001b[0m \u001b[43m                                 \u001b[49m\u001b[43mrt_tolerance_curve\u001b[49m\u001b[43m,\u001b[49m\u001b[43m \u001b[49m\u001b[43mmz_tolerance_curve\u001b[49m\u001b[43m,\u001b[49m\u001b[43m \u001b[49m\u001b[43misolation\u001b[49m\u001b[43m,\u001b[49m\u001b[43m \u001b[49m\u001b[43mdelay\u001b[49m\u001b[43m,\u001b[49m\u001b[43m \u001b[49m\n\u001b[1;32m      5\u001b[0m \u001b[43m                                 \u001b[49m\u001b[43mmin_scan\u001b[49m\u001b[43m,\u001b[49m\u001b[43m \u001b[49m\u001b[43mmax_scan\u001b[49m\u001b[43m,\u001b[49m\u001b[43m \u001b[49m\u001b[43mcluster\u001b[49m\u001b[43m,\u001b[49m\u001b[43m \u001b[49m\u001b[43mrt_margin\u001b[49m\u001b[43m,\u001b[49m\u001b[43m \u001b[49m\u001b[43mtransient_time\u001b[49m\u001b[43m)\u001b[49m\n\u001b[1;32m      7\u001b[0m \u001b[38;5;66;03m#def run_MS2Planner_curve_from_mzTab(input_filename:int, num_path:int, intensity_ratio:float,\u001b[39;00m\n\u001b[1;32m      8\u001b[0m \u001b[38;5;66;03m#                                    intensity_threshold:float, input_filename_curve:int, intensity_accu:float, \u001b[39;00m\n\u001b[1;32m      9\u001b[0m \u001b[38;5;66;03m#                                    rt_tolerance_curve:float, mz_tolerance_curve:float, isolation:float,\u001b[39;00m\n\u001b[1;32m     10\u001b[0m \u001b[38;5;66;03m#                                    delay:float, min_scan:float, max_scan:float, cluster:str, \u001b[39;00m\n\u001b[1;32m     11\u001b[0m \u001b[38;5;66;03m#                                    rt_margin:float, transient_time:float):\u001b[39;00m\n",
      "File \u001b[0;32m~/IODA_MS2Planner_workflow.py:580\u001b[0m, in \u001b[0;36mrun_MS2Planner_curve_from_mzTab\u001b[0;34m(input_filename, num_path, intensity_ratio, intensity_threshold, input_filename_curve, intensity_accu, rt_tolerance_curve, mz_tolerance_curve, isolation, delay, min_scan, max_scan, cluster, rt_margin, transient_time)\u001b[0m\n\u001b[1;32m    578\u001b[0m logger\u001b[38;5;241m.\u001b[39minfo(\u001b[38;5;124m'\u001b[39m\u001b[38;5;124m======\u001b[39m\u001b[38;5;124m'\u001b[39m)\n\u001b[1;32m    579\u001b[0m logger\u001b[38;5;241m.\u001b[39minfo(\u001b[38;5;124m'\u001b[39m\u001b[38;5;124mPreparing results ...\u001b[39m\u001b[38;5;124m'\u001b[39m)\n\u001b[0;32m--> 580\u001b[0m \u001b[43mmake_MS2Planner_targeted_lists_from_table\u001b[49m\u001b[43m(\u001b[49m\u001b[43moutput_filename\u001b[49m\u001b[43m[\u001b[49m\u001b[43m:\u001b[49m\u001b[38;5;241;43m-\u001b[39;49m\u001b[38;5;241;43m4\u001b[39;49m\u001b[43m]\u001b[49m\u001b[38;5;241;43m+\u001b[39;49m\u001b[38;5;124;43m'\u001b[39;49m\u001b[38;5;124;43m_MS2Planner.csv\u001b[39;49m\u001b[38;5;124;43m'\u001b[39;49m\u001b[43m,\u001b[49m\u001b[43m \u001b[49m\u001b[43mrt_margin\u001b[49m\u001b[43m,\u001b[49m\u001b[43m \u001b[49m\u001b[43mtransient_time\u001b[49m\u001b[43m)\u001b[49m\n\u001b[1;32m    581\u001b[0m logger\u001b[38;5;241m.\u001b[39minfo(\u001b[38;5;124m'\u001b[39m\u001b[38;5;124m======\u001b[39m\u001b[38;5;124m'\u001b[39m)\n\u001b[1;32m    583\u001b[0m logger\u001b[38;5;241m.\u001b[39minfo(\u001b[38;5;124m'\u001b[39m\u001b[38;5;124mCleaning and zipping workflow results files ...\u001b[39m\u001b[38;5;124m'\u001b[39m)\n",
      "File \u001b[0;32m~/IODA_MS2Planner_workflow.py:652\u001b[0m, in \u001b[0;36mmake_MS2Planner_targeted_lists_from_table\u001b[0;34m(input_filename, rt_margin, transient_time)\u001b[0m\n\u001b[1;32m    650\u001b[0m logger\u001b[38;5;241m.\u001b[39minfo(\u001b[38;5;124m'\u001b[39m\u001b[38;5;124mFile processed: \u001b[39m\u001b[38;5;124m'\u001b[39m\u001b[38;5;241m+\u001b[39minput_filename)\n\u001b[1;32m    651\u001b[0m logger\u001b[38;5;241m.\u001b[39minfo(\u001b[38;5;124m'\u001b[39m\u001b[38;5;124m======\u001b[39m\u001b[38;5;124m'\u001b[39m)\n\u001b[0;32m--> 652\u001b[0m \u001b[38;5;28;01mwith\u001b[39;00m \u001b[38;5;28;43mopen\u001b[39;49m\u001b[43m(\u001b[49m\u001b[43minput_filename\u001b[49m\u001b[43m)\u001b[49m \u001b[38;5;28;01mas\u001b[39;00m file:\n\u001b[1;32m    653\u001b[0m     counter \u001b[38;5;241m=\u001b[39m \u001b[38;5;241m-\u001b[39m\u001b[38;5;241m1\u001b[39m\n\u001b[1;32m    654\u001b[0m     \u001b[38;5;28;01mfor\u001b[39;00m line \u001b[38;5;129;01min\u001b[39;00m file:\n",
      "\u001b[0;31mFileNotFoundError\u001b[0m: [Errno 2] No such file or directory: 'results_targeted_MS2Planner_curve/Euphorbia_rogers_latex_Blank_MS1_2uL_to_Euphorbia_rogers_latex_latex_MS1_2uL_mrgd_MS2Planner.csv'"
     ]
    }
   ],
   "source": [
    "# Run Path Finder with Curve method\n",
    "run_MS2Planner_curve_from_mzTab(input_mzTab, experiment_number, min_ratio_value, \n",
    "                                 min_intensity_value, input_filename_curve, intensity_accu, \n",
    "                                 rt_tolerance_curve, mz_tolerance_curve, isolation, delay, \n",
    "                                 min_scan, max_scan, cluster, rt_margin, transient_time)\n",
    "\n",
    "#def run_MS2Planner_curve_from_mzTab(input_filename:int, num_path:int, intensity_ratio:float,\n",
    "#                                    intensity_threshold:float, input_filename_curve:int, intensity_accu:float, \n",
    "#                                    rt_tolerance_curve:float, mz_tolerance_curve:float, isolation:float,\n",
    "#                                    delay:float, min_scan:float, max_scan:float, cluster:str, \n",
    "#                                    rt_margin:float, transient_time:float):\n"
   ]
  },
  {
   "cell_type": "code",
   "execution_count": 15,
   "metadata": {},
   "outputs": [
    {
     "name": "stdout",
     "output_type": "stream",
     "text": [
      "=============\n",
      "Curve mode begin\n",
      "Killed\n"
     ]
    }
   ],
   "source": [
    "!python3 path_finder.py curve results_targeted_pathfinder_curve/SA113_Media_SPE_MeOH_MS1_to_SA113_SPE_MeOH_MS1_mrgd.csv results_targeted_pathfinder_curve/SA113_Media_SPE_MeOH_MS1_to_SA113_SPE_MeOH_MS1_mrgd_PathFinder.csv 300000.0 3 5 -infile_raw tests/BP_mzTab/test_SA113_SPE_MeOH_MS1.mzTab -intensity_accu 300000.0 -restriction 2 0.02 -delta 0.1"
   ]
  },
  {
   "cell_type": "code",
   "execution_count": null,
   "metadata": {},
   "outputs": [],
   "source": []
  },
  {
   "cell_type": "code",
   "execution_count": null,
   "metadata": {},
   "outputs": [],
   "source": []
  },
  {
   "cell_type": "code",
   "execution_count": null,
   "metadata": {},
   "outputs": [],
   "source": []
  },
  {
   "cell_type": "code",
   "execution_count": null,
   "metadata": {},
   "outputs": [],
   "source": []
  },
  {
   "cell_type": "code",
   "execution_count": null,
   "metadata": {},
   "outputs": [],
   "source": []
  },
  {
   "cell_type": "code",
   "execution_count": null,
   "metadata": {},
   "outputs": [],
   "source": []
  },
  {
   "cell_type": "code",
   "execution_count": null,
   "metadata": {},
   "outputs": [],
   "source": []
  },
  {
   "cell_type": "code",
   "execution_count": null,
   "metadata": {},
   "outputs": [],
   "source": []
  },
  {
   "cell_type": "code",
   "execution_count": null,
   "metadata": {},
   "outputs": [],
   "source": []
  },
  {
   "cell_type": "code",
   "execution_count": null,
   "metadata": {},
   "outputs": [],
   "source": []
  },
  {
   "cell_type": "code",
   "execution_count": null,
   "metadata": {},
   "outputs": [],
   "source": []
  },
  {
   "cell_type": "code",
   "execution_count": null,
   "metadata": {},
   "outputs": [],
   "source": []
  },
  {
   "cell_type": "code",
   "execution_count": null,
   "metadata": {},
   "outputs": [],
   "source": []
  },
  {
   "cell_type": "markdown",
   "metadata": {},
   "source": [
    "### Step 0 - Generate an mzTab file\n",
    "\n",
    "The mzTab file must contain results from feature detection and alignment for the two samples: the \"reference\" sample and the \"blank' sample. Please refer to the [documentation page](link) for more information.\n",
    "\n",
    "### Step 1 - Upload the mzTab file\n",
    "\n",
    "##### <span style=\"color:brown\">Method 1 - Upload your mzTab file </span>\n",
    "\n",
    "Upload your mzML files on the Binder server with the Jupyter lab interface (drag-and-drop the file in the left panel or use the \"Upload\" icon). \n",
    "\n",
    "##### <span style=\"color:brown\">Method 2 - Web-sharing links</span>\n",
    "We support retrieving the files from the following cloud sharing services:\n",
    "> **Google Drive** : copy the sharing the link (make sure the sharing setting is set to 'Anyone with the link can download').\n",
    "\n",
    "> **MassIVE/GNPS repository** : copy the link for the file.\n",
    "\n",
    "\n",
    "### Step 3 - Specify the link or path to the mzTab file\n",
    "\n",
    "In the cell below, indicate the filename for the mzTab file. The filename must be into parenthesis,  such as: *\"myfile.mzTab\"*. If applicable change the path, such *\"input_folder/myfile.mzTab\"*."
   ]
  },
  {
   "cell_type": "code",
   "execution_count": null,
   "metadata": {},
   "outputs": [],
   "source": [
    "input_mzTab = 'https://drive.google.com/file/d/1NGVzhrw-xZ4nMJserIQ7v4tYgcmraZ6g/view?usp=sharing'"
   ]
  },
  {
   "cell_type": "markdown",
   "metadata": {},
   "source": [
    "### Step 4 - Specify the parameters of the IODA-targeted workflow\n",
    "Specify the parameter values for IODA-targeted workflow in the cell below:\n",
    "\n",
    "*min_ratio_value*: minimum ratio for the intensity of an ion/feature (peak height) between the reference and blank samples (reference/blank). Only ions above that ratio will be valid ion targets. (Default = 5).\n",
    "\n",
    "*min_intensity_value*: the minimum intensity (peak height) of an ion/feature in the reference sample to be considered as valid ion targets. (Default = 1E5).\n",
    "\n",
    "*experiment_number*: define the number of iterative experiment(s) to perform for the IODA-targeted workflow. If >2, the valid target ions will be splitted into (multiple) experiments (Default = 3, range 1-10)\n"
   ]
  },
  {
   "cell_type": "code",
   "execution_count": null,
   "metadata": {},
   "outputs": [],
   "source": [
    "min_ratio_value = 5\n",
    "min_intensity_value = 1E5\n",
    "experiment_number = 3"
   ]
  },
  {
   "cell_type": "markdown",
   "metadata": {},
   "source": [
    "### Step 5 - Run the IODA-targeted workflow\n",
    "\n",
    "Simply run the cell below to start the IODA-targeted workflow"
   ]
  },
  {
   "cell_type": "code",
   "execution_count": null,
   "metadata": {},
   "outputs": [],
   "source": [
    "from IODA_targeted_workflow import *\n",
    "make_targeted_list_from_mzTab(input_mzTab, experiment_number, min_ratio_value, min_intensity_value)"
   ]
  },
  {
   "cell_type": "markdown",
   "metadata": {},
   "source": [
    "### Step 6 - Examine the results\n",
    "\n",
    "**Visualise** : Run the cell below to show the scatter plot for the IODA-targeted workflow results. Valid targets in the reference sample are represented into experiment(s). The ion/features from the blank sample are also shown. Verify that the OpenMS parameter variables and IODA-targeted workflows are adapted to level you want to apply, and your sample(s) complexity.\n",
    "\n",
    "- Examine the IODA-targeted worflow log and the plots in order to verify that the 'min_intensity' parameter is adapted to exclusion level you want to apply, and your sample(s) complexity.\n",
    "- Note that, at this stage, it cannot be evaluated if ion detection was done optimally. This should be examinated during the generation of the mzTab file (such as with TOPPAS/OpenMS)."
   ]
  },
  {
   "cell_type": "code",
   "execution_count": null,
   "metadata": {},
   "outputs": [],
   "source": [
    "from IPython.display import Image\n",
    "Image(\"results_targeted/intermediate_files/experiment_blank_shared_TARGETED_RATIO_scatter_view.png\")\n",
    "Image(\"results_targeted/intermediate_files/experiment_blank_shared_TARGETED_INTENSITY_scatter_view.png\")"
   ]
  },
  {
   "cell_type": "markdown",
   "metadata": {},
   "source": [
    "### Step 7 - Download the results\n",
    "\n",
    "Download the IODA-targeted workflow results ->\n",
    "[download-results/IODA_targeted_results.zip](download-results/IODA_targeted_results.zip?download=1).\n",
    "\n",
    "### Step 8 - Prepare your IODA experiment\n",
    "Prepare the iterative mass spectrometry acquisition. For instructions on how to load and configure an exclusion list with XCalibur or MaxQuant.Live please refer to [the following documentation](nothing)."
   ]
  },
  {
   "cell_type": "code",
   "execution_count": null,
   "metadata": {},
   "outputs": [],
   "source": []
  }
 ],
 "metadata": {
  "kernelspec": {
   "display_name": "Python 3 (ipykernel)",
   "language": "python",
   "name": "python3"
  },
  "language_info": {
   "codemirror_mode": {
    "name": "ipython",
    "version": 3
   },
   "file_extension": ".py",
   "mimetype": "text/x-python",
   "name": "python",
   "nbconvert_exporter": "python",
   "pygments_lexer": "ipython3",
   "version": "3.10.9"
  }
 },
 "nbformat": 4,
 "nbformat_minor": 4
}
